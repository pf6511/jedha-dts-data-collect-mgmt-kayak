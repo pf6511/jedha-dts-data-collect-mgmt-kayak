{
 "cells": [
  {
   "cell_type": "code",
   "execution_count": 3,
   "metadata": {},
   "outputs": [
    {
     "name": "stdout",
     "output_type": "stream",
     "text": [
      "output_subdir :  C:\\Pieric\\datascience\\JEDHA\\Data Science Fundamentals\\PYTHON\\workspace\\projects\\jedha-dts-data-collect-mgmt-kayak\\data\\output\n"
     ]
    }
   ],
   "source": [
    "import pandas as pd\n",
    "import requests\n",
    "import GetDestinationCoordinates as gpscoordinates\n",
    "import GetWeatherForecast as weatherforecast\n",
    "import ScrapingBooking as hotelsearch\n",
    "\n",
    "import os\n",
    "from pathlib import Path\n",
    "import sys\n",
    "\n",
    "import asyncio\n",
    "\n",
    "from datetime import date, datetime, timedelta\n",
    "from typing import TypedDict, List\n",
    "\n",
    "import boto3"
   ]
  },
  {
   "cell_type": "markdown",
   "metadata": {},
   "source": [
    "### Setting secrets ###"
   ]
  },
  {
   "cell_type": "code",
   "execution_count": null,
   "metadata": {},
   "outputs": [
    {
     "data": {
      "application/vnd.jupyter.widget-view+json": {
       "model_id": "054e50ed2ff948be90c2611025cba496",
       "version_major": 2,
       "version_minor": 0
      },
      "text/plain": [
       "Password(description='AWS Key:')"
      ]
     },
     "metadata": {},
     "output_type": "display_data"
    },
    {
     "data": {
      "application/vnd.jupyter.widget-view+json": {
       "model_id": "4b077b5de5ae4356bccbff745a0d89ce",
       "version_major": 2,
       "version_minor": 0
      },
      "text/plain": [
       "Password(description='AWS Secret:')"
      ]
     },
     "metadata": {},
     "output_type": "display_data"
    },
    {
     "data": {
      "application/vnd.jupyter.widget-view+json": {
       "model_id": "7f7f1d8a079744bd93fb948782a76a83",
       "version_major": 2,
       "version_minor": 0
      },
      "text/plain": [
       "Button(description='Set AWS Credentials', style=ButtonStyle())"
      ]
     },
     "metadata": {},
     "output_type": "display_data"
    }
   ],
   "source": [
    "import os\n",
    "import ipywidgets as widgets\n",
    "from IPython.display import display\n",
    "\n",
    "access_key = widgets.Password(description=\"AWS Key:\")\n",
    "secret_key = widgets.Password(description=\"AWS Secret:\")\n",
    "weatherforecats_api_key = widgets.Password(description=\"OpenWeather map api key:\")\n",
    "rds_postgresql_kayak_uri = widgets.Password(description=\"Rds postgresql kayak db URI:\")\n",
    "\n",
    "display(access_key, secret_key,weatherforecats_api_key )\n",
    "\n",
    "def set_env(_):\n",
    "    os.environ[\"AWS_ACCESS_KEY_ID\"] = access_key.value\n",
    "    os.environ[\"AWS_SECRET_ACCESS_KEY\"] = secret_key.value\n",
    "    os.environ[\"OPENWEATHER_API_KEY\"] = weatherforecats_api_key.value\n",
    "    os.environ[\"RDS_KAYAK_POSTGRESQL_URI\"] = rds_postgresql_kayak_uri.value\n",
    "    os.environ[\"AWS_DEFAULT_REGION\"] = \"eu-west-3\"\n",
    "\n",
    "button = widgets.Button(description=\"Set secrets\")\n",
    "button.on_click(set_env)\n",
    "display(button)"
   ]
  },
  {
   "cell_type": "code",
   "execution_count": 138,
   "metadata": {},
   "outputs": [
    {
     "name": "stdout",
     "output_type": "stream",
     "text": [
      "ok\n"
     ]
    }
   ],
   "source": [
    "current_folder_path = os.getcwd()\n",
    "destinations_input_info_list = [{'destination_key':'Mont Saint Michel','destination_q':'Mont Saint Michel, France, 50170', 'address_type':'tourism'}\n",
    "                                ,{'destination_key':'Saint-Malo','destination_q':'Saint Malo, France, 35400','address_type':'town'}\n",
    "                                ,{'destination_key':'Bayeux','destination_q':'Bayeux, France','address_type':'town'}\n",
    "                                ,{'destination_key':'Le Havre','destination_q':'Le Havre, France, 76600','address_type':'city'}\n",
    "                                ,{'destination_key':'Rouen','destination_q':'Rouen, France','address_type':'city'}\n",
    "                                ,{'destination_key':'Paris','destination_q':'Paris, France','address_type':'city'}\n",
    "                                ,{'destination_key':'Amiens','destination_q':'Amiens, France, 80000','address_type':'city'}\n",
    "                                ,{'destination_key':'Lille','destination_q':'Lille, France, 59000','address_type':'city'}\n",
    "                                ,{'destination_key':'Strasbourg','destination_q':'Strasbourg, France, 67000','address_type':'city'}\n",
    "                                ,{'destination_key':'Château du Haut Koenigsbourg','destination_q':'Château du Haut Koenigsbourg, France','address_type':'historic'}\n",
    "                                ,{'destination_key':'Colmar','destination_q':'Colmar, France, 68000','address_type':'town'}\n",
    "                                ,{'destination_key':'Eguisheim','destination_q':'Eguisheim, France','address_type':'city'}\n",
    "                                ,{'destination_key':'Besancon','destination_q':'Besancon, France, 25000','address_type':'city'}\n",
    "                                ,{'destination_key':'Dijon','destination_q':'Dijon, France, 21000','address_type':'city'}\n",
    "                                ,{'destination_key':'Annecy','destination_q':'Annecy, France, 74000','address_type':'city'}\n",
    "                                ,{'destination_key':'Grenoble','destination_q':'Grenoble, France, 38000','address_type':'city'}\n",
    "                                ,{'destination_key':'Lyon','destination_q':'Lyon, France, 69000','address_type':'city'}\n",
    "                                ,{'destination_key':'Gorges du Verdon','destination_q':'Gorges du Verdon, France','address_type':'tourism'}\n",
    "                                ,{'destination_key':'Bormes les Mimosas','destination_q':'Bormes les Mimosas, France; 83230','address_type':'city'}\n",
    "                                ,{'destination_key':'Cassis','destination_q':'Cassis, France, 13260','address_type':'city'}\n",
    "                                ,{'destination_key':'Marseille','destination_q':'Marseille, France, 13001','address_type':'city'}\n",
    "                                ,{'destination_key':'Aix en Provence','destination_q':'Aix en Provence, France','address_type':'city'}\n",
    "                                ,{'destination_key':'Avignon','destination_q':'Avignon, France, 84000','address_type':'city'}\n",
    "                                ,{'destination_key':'Uzes','destination_q':'Uzes, France, 30700','address_type':'city'}\n",
    "                                ,{'destination_key':'Nimes','destination_q':'Nimes, France, 30000','address_type':'city'}\n",
    "                                ,{'destination_key':'Aigues Mortes','destination_q':'Aigues-Mortes, France','address_type':'tourism'}\n",
    "                                ,{'destination_key':'Saintes Maries de la mer','destination_q':'Saintes Maries de la mer, France','address_type':'city'}\n",
    "                                ,{'destination_key':'Collioure','destination_q':'Collioure, France, 66190','address_type':'city'}\n",
    "                                ,{'destination_key':'Carcassonne','destination_q':'Carcassonne, France, 11000','address_type':'city'}\n",
    "                                ,{'destination_key':'Ariege','destination_q':'Ariege, France','address_type':'city'}\n",
    "                                ,{'destination_key':'Toulouse','destination_q':'Toulouse, France, 31000','address_type':'city'}\n",
    "                                ,{'destination_key':'Montauban','destination_q':'Montauban, France, 82000','address_type':'city'}\n",
    "                                ,{'destination_key':'Biarritz','destination_q':'Biarritz, France, 64200','address_type':'city'}\n",
    "                                ,{'destination_key':'Bayonne','destination_q':'Bayonne, France, 64100','address_type':'city'}\n",
    "                                ,{'destination_key':'La Rochelle','destination_q':'La Rochelle, France, 17300','address_type':'city'}                               \n",
    "                                ]\n",
    "\n",
    "user_agent = 'Edg/129.0.2792.79'\n",
    "print('ok')"
   ]
  },
  {
   "cell_type": "code",
   "execution_count": 139,
   "metadata": {},
   "outputs": [],
   "source": [
    "def remove_file_if_exists(relative_path:str):\n",
    "    if os.path.exists(relative_path):\n",
    "          os.remove(relative_path)"
   ]
  },
  {
   "cell_type": "markdown",
   "metadata": {},
   "source": [
    "### Load gps coordinates of destinations ###"
   ]
  },
  {
   "cell_type": "code",
   "execution_count": 4,
   "metadata": {},
   "outputs": [
    {
     "name": "stdout",
     "output_type": "stream",
     "text": [
      "Response Status code : 200, parameters : {'format': 'jsonv2', 'q': 'Mont Saint Michel, France, 50170'}\n",
      "No entry matching address_type for destination key :  Mont Saint Michel\n",
      "take first entry, addesstype :  highway\n",
      "Response Status code : 200, parameters : {'format': 'jsonv2', 'q': 'Saint Malo, France, 35400'}\n",
      "Response Status code : 200, parameters : {'format': 'jsonv2', 'q': 'Bayeux, France'}\n",
      "Response Status code : 200, parameters : {'format': 'jsonv2', 'q': 'Le Havre, France, 76600'}\n",
      "Response Status code : 200, parameters : {'format': 'jsonv2', 'q': 'Rouen, France'}\n",
      "Response Status code : 200, parameters : {'format': 'jsonv2', 'q': 'Paris, France'}\n",
      "Response Status code : 200, parameters : {'format': 'jsonv2', 'q': 'Amiens, France, 80000'}\n",
      "Response Status code : 200, parameters : {'format': 'jsonv2', 'q': 'Lille, France, 59000'}\n",
      "Response Status code : 200, parameters : {'format': 'jsonv2', 'q': 'Strasbourg, France, 67000'}\n",
      "Response Status code : 200, parameters : {'format': 'jsonv2', 'q': 'Château du Haut Koenigsbourg, France'}\n",
      "Response Status code : 200, parameters : {'format': 'jsonv2', 'q': 'Colmar, France, 68000'}\n",
      "Response Status code : 200, parameters : {'format': 'jsonv2', 'q': 'Eguisheim, France'}\n",
      "No entry matching address_type for destination key :  Eguisheim\n",
      "take first entry, addesstype :  village\n",
      "Response Status code : 200, parameters : {'format': 'jsonv2', 'q': 'Besancon, France, 25000'}\n",
      "Response Status code : 200, parameters : {'format': 'jsonv2', 'q': 'Dijon, France, 21000'}\n",
      "Response Status code : 200, parameters : {'format': 'jsonv2', 'q': 'Annecy, France, 74000'}\n",
      "Response Status code : 200, parameters : {'format': 'jsonv2', 'q': 'Grenoble, France, 38000'}\n",
      "Response Status code : 200, parameters : {'format': 'jsonv2', 'q': 'Lyon, France, 69000'}\n",
      "Response Status code : 200, parameters : {'format': 'jsonv2', 'q': 'Gorges du Verdon, France'}\n",
      "Response Status code : 200, parameters : {'format': 'jsonv2', 'q': 'Bormes les Mimosas, France; 83230'}\n",
      "No entry matching address_type for destination key :  Bormes les Mimosas\n",
      "take first entry, addesstype :  village\n",
      "Response Status code : 200, parameters : {'format': 'jsonv2', 'q': 'Cassis, France, 13260'}\n",
      "No entry matching address_type for destination key :  Cassis\n",
      "take first entry, addesstype :  village\n",
      "Response Status code : 200, parameters : {'format': 'jsonv2', 'q': 'Marseille, France, 13001'}\n",
      "Response Status code : 200, parameters : {'format': 'jsonv2', 'q': 'Aix en Provence, France'}\n",
      "Response Status code : 200, parameters : {'format': 'jsonv2', 'q': 'Avignon, France, 84000'}\n",
      "Response Status code : 200, parameters : {'format': 'jsonv2', 'q': 'Uzes, France, 30700'}\n",
      "No entry matching address_type for destination key :  Uzes\n",
      "take first entry, addesstype :  village\n",
      "Response Status code : 200, parameters : {'format': 'jsonv2', 'q': 'Nimes, France, 30000'}\n",
      "Response Status code : 200, parameters : {'format': 'jsonv2', 'q': 'Aigues-Mortes, France'}\n",
      "No entry matching address_type for destination key :  Aigues Mortes\n",
      "take first entry, addesstype :  town\n",
      "Response Status code : 200, parameters : {'format': 'jsonv2', 'q': 'Saintes Maries de la mer, France'}\n",
      "No entry matching address_type for destination key :  Saintes Maries de la mer\n",
      "take first entry, addesstype :  town\n",
      "Response Status code : 200, parameters : {'format': 'jsonv2', 'q': 'Collioure, France, 66190'}\n",
      "No entry matching address_type for destination key :  Collioure\n",
      "take first entry, addesstype :  village\n",
      "Response Status code : 200, parameters : {'format': 'jsonv2', 'q': 'Carcassonne, France, 11000'}\n",
      "No entry matching address_type for destination key :  Carcassonne\n",
      "take first entry, addesstype :  town\n",
      "Response Status code : 200, parameters : {'format': 'jsonv2', 'q': 'Ariege, France'}\n",
      "No entry matching address_type for destination key :  Ariege\n",
      "take first entry, addesstype :  county\n",
      "Response Status code : 200, parameters : {'format': 'jsonv2', 'q': 'Toulouse, France, 31000'}\n",
      "Response Status code : 200, parameters : {'format': 'jsonv2', 'q': 'Montauban, France, 82000'}\n",
      "No entry matching address_type for destination key :  Montauban\n",
      "take first entry, addesstype :  town\n",
      "Response Status code : 200, parameters : {'format': 'jsonv2', 'q': 'Biarritz, France, 64200'}\n",
      "No entry matching address_type for destination key :  Biarritz\n",
      "take first entry, addesstype :  town\n",
      "Response Status code : 200, parameters : {'format': 'jsonv2', 'q': 'Bayonne, France, 64100'}\n",
      "No entry matching address_type for destination key :  Bayonne\n",
      "take first entry, addesstype :  town\n",
      "Response Status code : 200, parameters : {'format': 'jsonv2', 'q': 'La Rochelle, France, 17300'}\n",
      "No entry matching address_type for destination key :  La Rochelle\n",
      "take first entry, addesstype :  town\n"
     ]
    },
    {
     "data": {
      "text/html": [
       "<div>\n",
       "<style scoped>\n",
       "    .dataframe tbody tr th:only-of-type {\n",
       "        vertical-align: middle;\n",
       "    }\n",
       "\n",
       "    .dataframe tbody tr th {\n",
       "        vertical-align: top;\n",
       "    }\n",
       "\n",
       "    .dataframe thead th {\n",
       "        text-align: right;\n",
       "    }\n",
       "</style>\n",
       "<table border=\"1\" class=\"dataframe\">\n",
       "  <thead>\n",
       "    <tr style=\"text-align: right;\">\n",
       "      <th></th>\n",
       "      <th>destination_id</th>\n",
       "      <th>destination_key</th>\n",
       "      <th>destination</th>\n",
       "      <th>gps_long</th>\n",
       "      <th>gps_lat</th>\n",
       "    </tr>\n",
       "  </thead>\n",
       "  <tbody>\n",
       "    <tr>\n",
       "      <th>0</th>\n",
       "      <td>1</td>\n",
       "      <td>Mont Saint Michel</td>\n",
       "      <td>Mont Saint-Michel</td>\n",
       "      <td>-1.5070125</td>\n",
       "      <td>48.6095263</td>\n",
       "    </tr>\n",
       "    <tr>\n",
       "      <th>1</th>\n",
       "      <td>2</td>\n",
       "      <td>Saint-Malo</td>\n",
       "      <td>Saint-Malo</td>\n",
       "      <td>-2.0260409</td>\n",
       "      <td>48.6495180</td>\n",
       "    </tr>\n",
       "    <tr>\n",
       "      <th>2</th>\n",
       "      <td>3</td>\n",
       "      <td>Bayeux</td>\n",
       "      <td>Bayeux</td>\n",
       "      <td>-0.7024738</td>\n",
       "      <td>49.2764624</td>\n",
       "    </tr>\n",
       "    <tr>\n",
       "      <th>3</th>\n",
       "      <td>4</td>\n",
       "      <td>Le Havre</td>\n",
       "      <td>Le Havre</td>\n",
       "      <td>0.1079732</td>\n",
       "      <td>49.4938975</td>\n",
       "    </tr>\n",
       "    <tr>\n",
       "      <th>4</th>\n",
       "      <td>5</td>\n",
       "      <td>Rouen</td>\n",
       "      <td>Rouen</td>\n",
       "      <td>1.0939658</td>\n",
       "      <td>49.4404591</td>\n",
       "    </tr>\n",
       "  </tbody>\n",
       "</table>\n",
       "</div>"
      ],
      "text/plain": [
       "   destination_id    destination_key        destination    gps_long  \\\n",
       "0               1  Mont Saint Michel  Mont Saint-Michel  -1.5070125   \n",
       "1               2         Saint-Malo         Saint-Malo  -2.0260409   \n",
       "2               3             Bayeux             Bayeux  -0.7024738   \n",
       "3               4           Le Havre           Le Havre   0.1079732   \n",
       "4               5              Rouen              Rouen   1.0939658   \n",
       "\n",
       "      gps_lat  \n",
       "0  48.6095263  \n",
       "1  48.6495180  \n",
       "2  49.2764624  \n",
       "3  49.4938975  \n",
       "4  49.4404591  "
      ]
     },
     "execution_count": 4,
     "metadata": {},
     "output_type": "execute_result"
    }
   ],
   "source": [
    "getcoordinates = gpscoordinates.GetDestinationCoordinates(user_agent)\n",
    "dest_coordinates_dtf =  getcoordinates.get_destination_gpscoordinates_dataframe(destinations_input_info_list)\n",
    "dest_coordinates_dtf.head(5)"
   ]
  },
  {
   "cell_type": "code",
   "execution_count": 109,
   "metadata": {},
   "outputs": [
    {
     "data": {
      "text/plain": [
       "destination_id       int64\n",
       "destination_key     object\n",
       "destination         object\n",
       "gps_long           float64\n",
       "gps_lat            float64\n",
       "dtype: object"
      ]
     },
     "execution_count": 109,
     "metadata": {},
     "output_type": "execute_result"
    }
   ],
   "source": [
    "dest_coordinates_dtf.dtypes"
   ]
  },
  {
   "cell_type": "markdown",
   "metadata": {},
   "source": [
    "### Save gps coordinates dataframe to csv ###"
   ]
  },
  {
   "cell_type": "code",
   "execution_count": 5,
   "metadata": {},
   "outputs": [
    {
     "name": "stdout",
     "output_type": "stream",
     "text": [
      "The file \"data/output/destination_gps_coordinates.csv\" exists.\n"
     ]
    }
   ],
   "source": [
    "# Save dataset as csv\n",
    "output_file_path = 'data/output/destination_gps_coordinates.csv'\n",
    "if os.path.exists(output_file_path):\n",
    "    print(f'The file \"{output_file_path}\" exists.')\n",
    "    remove_file_if_exists(output_file_path)\n",
    "else:\n",
    "    print(f'The file \"{output_file_path}\" does not exist.')\n",
    "dest_coordinates_dtf.to_csv(output_file_path, encoding='utf-8',sep=',',index = False)"
   ]
  },
  {
   "cell_type": "markdown",
   "metadata": {},
   "source": [
    "#### OPTIONAL (read gps coordinates dataset back from csv ) ####"
   ]
  },
  {
   "cell_type": "code",
   "execution_count": 140,
   "metadata": {},
   "outputs": [
    {
     "data": {
      "text/html": [
       "<div>\n",
       "<style scoped>\n",
       "    .dataframe tbody tr th:only-of-type {\n",
       "        vertical-align: middle;\n",
       "    }\n",
       "\n",
       "    .dataframe tbody tr th {\n",
       "        vertical-align: top;\n",
       "    }\n",
       "\n",
       "    .dataframe thead th {\n",
       "        text-align: right;\n",
       "    }\n",
       "</style>\n",
       "<table border=\"1\" class=\"dataframe\">\n",
       "  <thead>\n",
       "    <tr style=\"text-align: right;\">\n",
       "      <th></th>\n",
       "      <th>destination_id</th>\n",
       "      <th>destination_key</th>\n",
       "      <th>destination</th>\n",
       "      <th>gps_long</th>\n",
       "      <th>gps_lat</th>\n",
       "    </tr>\n",
       "  </thead>\n",
       "  <tbody>\n",
       "    <tr>\n",
       "      <th>0</th>\n",
       "      <td>1</td>\n",
       "      <td>Mont Saint Michel</td>\n",
       "      <td>Mont Saint-Michel</td>\n",
       "      <td>-1.507013</td>\n",
       "      <td>48.609526</td>\n",
       "    </tr>\n",
       "    <tr>\n",
       "      <th>1</th>\n",
       "      <td>2</td>\n",
       "      <td>Saint-Malo</td>\n",
       "      <td>Saint-Malo</td>\n",
       "      <td>-2.026041</td>\n",
       "      <td>48.649518</td>\n",
       "    </tr>\n",
       "    <tr>\n",
       "      <th>2</th>\n",
       "      <td>3</td>\n",
       "      <td>Bayeux</td>\n",
       "      <td>Bayeux</td>\n",
       "      <td>-0.702474</td>\n",
       "      <td>49.276462</td>\n",
       "    </tr>\n",
       "    <tr>\n",
       "      <th>3</th>\n",
       "      <td>4</td>\n",
       "      <td>Le Havre</td>\n",
       "      <td>Le Havre</td>\n",
       "      <td>0.107973</td>\n",
       "      <td>49.493898</td>\n",
       "    </tr>\n",
       "    <tr>\n",
       "      <th>4</th>\n",
       "      <td>5</td>\n",
       "      <td>Rouen</td>\n",
       "      <td>Rouen</td>\n",
       "      <td>1.093966</td>\n",
       "      <td>49.440459</td>\n",
       "    </tr>\n",
       "  </tbody>\n",
       "</table>\n",
       "</div>"
      ],
      "text/plain": [
       "   destination_id    destination_key        destination  gps_long    gps_lat\n",
       "0               1  Mont Saint Michel  Mont Saint-Michel -1.507013  48.609526\n",
       "1               2         Saint-Malo         Saint-Malo -2.026041  48.649518\n",
       "2               3             Bayeux             Bayeux -0.702474  49.276462\n",
       "3               4           Le Havre           Le Havre  0.107973  49.493898\n",
       "4               5              Rouen              Rouen  1.093966  49.440459"
      ]
     },
     "execution_count": 140,
     "metadata": {},
     "output_type": "execute_result"
    }
   ],
   "source": [
    "output_file_path = 'data/output/destination_gps_coordinates.csv'\n",
    "dest_coordinates_dtf = pd.read_csv(output_file_path, encoding='utf-8',sep=',')\n",
    "dest_coordinates_dtf.head(5)"
   ]
  },
  {
   "cell_type": "markdown",
   "metadata": {},
   "source": [
    "### Get 5-days weather forecasts for destinations ###"
   ]
  },
  {
   "cell_type": "code",
   "execution_count": null,
   "metadata": {},
   "outputs": [
    {
     "name": "stdout",
     "output_type": "stream",
     "text": [
      "Response Status code : 200, parameters : {'units': 'metric', 'lon': '-1.5070125', 'lat': '48.6095263'}\n",
      "Response Status code : 200, parameters : {'units': 'metric', 'lon': '-2.0260409', 'lat': '48.6495180'}\n",
      "Response Status code : 200, parameters : {'units': 'metric', 'lon': '-0.7024738', 'lat': '49.2764624'}\n",
      "Response Status code : 200, parameters : {'units': 'metric', 'lon': '0.1079732', 'lat': '49.4938975'}\n",
      "Response Status code : 200, parameters : {'units': 'metric', 'lon': '1.0939658', 'lat': '49.4404591'}\n",
      "Response Status code : 200, parameters : {'units': 'metric', 'lon': '2.3483915', 'lat': '48.8534951'}\n",
      "Response Status code : 200, parameters : {'units': 'metric', 'lon': '2.2956951', 'lat': '49.8941708'}\n",
      "Response Status code : 200, parameters : {'units': 'metric', 'lon': '3.0635282', 'lat': '50.6365654'}\n",
      "Response Status code : 200, parameters : {'units': 'metric', 'lon': '7.7507127', 'lat': '48.5846140'}\n",
      "Response Status code : 200, parameters : {'units': 'metric', 'lon': '7.3443202', 'lat': '48.2494107'}\n",
      "Response Status code : 200, parameters : {'units': 'metric', 'lon': '7.3579641', 'lat': '48.0777517'}\n",
      "Response Status code : 200, parameters : {'units': 'metric', 'lon': '7.3079618', 'lat': '48.0447968'}\n",
      "Response Status code : 200, parameters : {'units': 'metric', 'lon': '6.0243622', 'lat': '47.2380222'}\n",
      "Response Status code : 200, parameters : {'units': 'metric', 'lon': '5.0414701', 'lat': '47.3215806'}\n",
      "Response Status code : 200, parameters : {'units': 'metric', 'lon': '6.1288847', 'lat': '45.8992348'}\n",
      "Response Status code : 200, parameters : {'units': 'metric', 'lon': '5.7357819', 'lat': '45.1875602'}\n",
      "Response Status code : 200, parameters : {'units': 'metric', 'lon': '4.8320114', 'lat': '45.7578137'}\n",
      "Response Status code : 200, parameters : {'units': 'metric', 'lon': '6.3285616', 'lat': '43.7496562'}\n",
      "Response Status code : 200, parameters : {'units': 'metric', 'lon': '6.3419285', 'lat': '43.1506968'}\n",
      "Response Status code : 200, parameters : {'units': 'metric', 'lon': '5.5396318', 'lat': '43.2140359'}\n",
      "Response Status code : 200, parameters : {'units': 'metric', 'lon': '5.3699525', 'lat': '43.2961743'}\n",
      "Response Status code : 200, parameters : {'units': 'metric', 'lon': '5.4474738', 'lat': '43.5298424'}\n",
      "Response Status code : 200, parameters : {'units': 'metric', 'lon': '4.8059012', 'lat': '43.9492493'}\n",
      "Response Status code : 200, parameters : {'units': 'metric', 'lon': '4.4196718', 'lat': '44.0121279'}\n",
      "Response Status code : 200, parameters : {'units': 'metric', 'lon': '4.3600687', 'lat': '43.8374249'}\n",
      "Response Status code : 200, parameters : {'units': 'metric', 'lon': '4.1915400', 'lat': '43.5661521'}\n",
      "Response Status code : 200, parameters : {'units': 'metric', 'lon': '4.4277202', 'lat': '43.4515922'}\n",
      "Response Status code : 200, parameters : {'units': 'metric', 'lon': '3.0831554', 'lat': '42.5250500'}\n",
      "Response Status code : 200, parameters : {'units': 'metric', 'lon': '2.3491069', 'lat': '43.2130358'}\n",
      "Response Status code : 200, parameters : {'units': 'metric', 'lon': '1.4065544', 'lat': '42.9455368'}\n",
      "Response Status code : 200, parameters : {'units': 'metric', 'lon': '1.4442469', 'lat': '43.6044622'}\n",
      "Response Status code : 200, parameters : {'units': 'metric', 'lon': '1.3549991', 'lat': '44.0175835'}\n",
      "Response Status code : 200, parameters : {'units': 'metric', 'lon': '-1.5592776', 'lat': '43.4832523'}\n",
      "Response Status code : 200, parameters : {'units': 'metric', 'lon': '-1.4736657', 'lat': '43.4945144'}\n",
      "Response Status code : 200, parameters : {'units': 'metric', 'lon': '-1.1515951', 'lat': '46.1597320'}\n"
     ]
    },
    {
     "data": {
      "text/html": [
       "<div>\n",
       "<style scoped>\n",
       "    .dataframe tbody tr th:only-of-type {\n",
       "        vertical-align: middle;\n",
       "    }\n",
       "\n",
       "    .dataframe tbody tr th {\n",
       "        vertical-align: top;\n",
       "    }\n",
       "\n",
       "    .dataframe thead th {\n",
       "        text-align: right;\n",
       "    }\n",
       "</style>\n",
       "<table border=\"1\" class=\"dataframe\">\n",
       "  <thead>\n",
       "    <tr style=\"text-align: right;\">\n",
       "      <th></th>\n",
       "      <th>destination_id</th>\n",
       "      <th>destination</th>\n",
       "      <th>dt_txt</th>\n",
       "      <th>dt</th>\n",
       "      <th>temp</th>\n",
       "      <th>temp_min</th>\n",
       "      <th>temp_max</th>\n",
       "      <th>pressure</th>\n",
       "      <th>humidity</th>\n",
       "      <th>weather_main</th>\n",
       "      <th>weather_descr</th>\n",
       "      <th>clouds_info_dict</th>\n",
       "      <th>pop</th>\n",
       "    </tr>\n",
       "  </thead>\n",
       "  <tbody>\n",
       "    <tr>\n",
       "      <th>0</th>\n",
       "      <td>1</td>\n",
       "      <td>Moidrey</td>\n",
       "      <td>2025-09-04 15:00:00</td>\n",
       "      <td>1756998000</td>\n",
       "      <td>20.05</td>\n",
       "      <td>19.67</td>\n",
       "      <td>20.05</td>\n",
       "      <td>1011</td>\n",
       "      <td>58</td>\n",
       "      <td>Rain</td>\n",
       "      <td>light rain</td>\n",
       "      <td>{'all': 58}</td>\n",
       "      <td>0.2</td>\n",
       "    </tr>\n",
       "    <tr>\n",
       "      <th>1</th>\n",
       "      <td>1</td>\n",
       "      <td>Moidrey</td>\n",
       "      <td>2025-09-04 18:00:00</td>\n",
       "      <td>1757008800</td>\n",
       "      <td>18.09</td>\n",
       "      <td>17.01</td>\n",
       "      <td>18.09</td>\n",
       "      <td>1013</td>\n",
       "      <td>69</td>\n",
       "      <td>Rain</td>\n",
       "      <td>light rain</td>\n",
       "      <td>{'all': 58}</td>\n",
       "      <td>1.0</td>\n",
       "    </tr>\n",
       "    <tr>\n",
       "      <th>2</th>\n",
       "      <td>1</td>\n",
       "      <td>Moidrey</td>\n",
       "      <td>2025-09-04 21:00:00</td>\n",
       "      <td>1757019600</td>\n",
       "      <td>13.47</td>\n",
       "      <td>13.47</td>\n",
       "      <td>13.47</td>\n",
       "      <td>1017</td>\n",
       "      <td>89</td>\n",
       "      <td>Rain</td>\n",
       "      <td>light rain</td>\n",
       "      <td>{'all': 75}</td>\n",
       "      <td>1.0</td>\n",
       "    </tr>\n",
       "    <tr>\n",
       "      <th>3</th>\n",
       "      <td>1</td>\n",
       "      <td>Moidrey</td>\n",
       "      <td>2025-09-05 00:00:00</td>\n",
       "      <td>1757030400</td>\n",
       "      <td>12.21</td>\n",
       "      <td>12.21</td>\n",
       "      <td>12.21</td>\n",
       "      <td>1018</td>\n",
       "      <td>91</td>\n",
       "      <td>Rain</td>\n",
       "      <td>light rain</td>\n",
       "      <td>{'all': 51}</td>\n",
       "      <td>1.0</td>\n",
       "    </tr>\n",
       "    <tr>\n",
       "      <th>4</th>\n",
       "      <td>1</td>\n",
       "      <td>Moidrey</td>\n",
       "      <td>2025-09-05 03:00:00</td>\n",
       "      <td>1757041200</td>\n",
       "      <td>11.60</td>\n",
       "      <td>11.60</td>\n",
       "      <td>11.60</td>\n",
       "      <td>1019</td>\n",
       "      <td>92</td>\n",
       "      <td>Clouds</td>\n",
       "      <td>few clouds</td>\n",
       "      <td>{'all': 16}</td>\n",
       "      <td>0.0</td>\n",
       "    </tr>\n",
       "  </tbody>\n",
       "</table>\n",
       "</div>"
      ],
      "text/plain": [
       "   destination_id destination               dt_txt          dt   temp  \\\n",
       "0               1     Moidrey  2025-09-04 15:00:00  1756998000  20.05   \n",
       "1               1     Moidrey  2025-09-04 18:00:00  1757008800  18.09   \n",
       "2               1     Moidrey  2025-09-04 21:00:00  1757019600  13.47   \n",
       "3               1     Moidrey  2025-09-05 00:00:00  1757030400  12.21   \n",
       "4               1     Moidrey  2025-09-05 03:00:00  1757041200  11.60   \n",
       "\n",
       "   temp_min  temp_max  pressure  humidity weather_main weather_descr  \\\n",
       "0     19.67     20.05      1011        58         Rain    light rain   \n",
       "1     17.01     18.09      1013        69         Rain    light rain   \n",
       "2     13.47     13.47      1017        89         Rain    light rain   \n",
       "3     12.21     12.21      1018        91         Rain    light rain   \n",
       "4     11.60     11.60      1019        92       Clouds    few clouds   \n",
       "\n",
       "  clouds_info_dict  pop  \n",
       "0      {'all': 58}  0.2  \n",
       "1      {'all': 58}  1.0  \n",
       "2      {'all': 75}  1.0  \n",
       "3      {'all': 51}  1.0  \n",
       "4      {'all': 16}  0.0  "
      ]
     },
     "execution_count": 6,
     "metadata": {},
     "output_type": "execute_result"
    }
   ],
   "source": [
    "# First create list of dict with keys matching get_weather_forecasts dict keys\n",
    "destinations_coordinates_input_dict = dest_coordinates_dtf.rename(columns={'gps_long':'lon', 'gps_lat':'lat'})[['destination_id', 'destination', 'lon', 'lat']].to_dict('records')\n",
    "getweatherforecast = weatherforecast.GetWeatherForecast(user_agent)\n",
    "weather_forecasts_dtf = getweatherforecast.get_weather_forecasts(destinations_coordinates_input_dict)\n",
    "weather_forecasts_dtf.head(5)"
   ]
  },
  {
   "cell_type": "markdown",
   "metadata": {},
   "source": [
    "#### Check dataframe ####"
   ]
  },
  {
   "cell_type": "code",
   "execution_count": 7,
   "metadata": {},
   "outputs": [
    {
     "data": {
      "text/html": [
       "<div>\n",
       "<style scoped>\n",
       "    .dataframe tbody tr th:only-of-type {\n",
       "        vertical-align: middle;\n",
       "    }\n",
       "\n",
       "    .dataframe tbody tr th {\n",
       "        vertical-align: top;\n",
       "    }\n",
       "\n",
       "    .dataframe thead th {\n",
       "        text-align: right;\n",
       "    }\n",
       "</style>\n",
       "<table border=\"1\" class=\"dataframe\">\n",
       "  <thead>\n",
       "    <tr style=\"text-align: right;\">\n",
       "      <th></th>\n",
       "      <th>index</th>\n",
       "      <th>destination_id</th>\n",
       "      <th>destination</th>\n",
       "      <th>dt_txt</th>\n",
       "      <th>dt</th>\n",
       "      <th>temp</th>\n",
       "      <th>temp_min</th>\n",
       "      <th>temp_max</th>\n",
       "      <th>pressure</th>\n",
       "      <th>humidity</th>\n",
       "      <th>weather_main</th>\n",
       "      <th>weather_descr</th>\n",
       "      <th>clouds_info_dict</th>\n",
       "      <th>pop</th>\n",
       "    </tr>\n",
       "  </thead>\n",
       "  <tbody>\n",
       "    <tr>\n",
       "      <th>0</th>\n",
       "      <td>0</td>\n",
       "      <td>1</td>\n",
       "      <td>Moidrey</td>\n",
       "      <td>2025-09-04 15:00:00</td>\n",
       "      <td>1756998000</td>\n",
       "      <td>20.05</td>\n",
       "      <td>19.67</td>\n",
       "      <td>20.05</td>\n",
       "      <td>1011</td>\n",
       "      <td>58</td>\n",
       "      <td>Rain</td>\n",
       "      <td>light rain</td>\n",
       "      <td>{'all': 58}</td>\n",
       "      <td>0.20</td>\n",
       "    </tr>\n",
       "    <tr>\n",
       "      <th>1</th>\n",
       "      <td>1</td>\n",
       "      <td>1</td>\n",
       "      <td>Moidrey</td>\n",
       "      <td>2025-09-04 18:00:00</td>\n",
       "      <td>1757008800</td>\n",
       "      <td>18.09</td>\n",
       "      <td>17.01</td>\n",
       "      <td>18.09</td>\n",
       "      <td>1013</td>\n",
       "      <td>69</td>\n",
       "      <td>Rain</td>\n",
       "      <td>light rain</td>\n",
       "      <td>{'all': 58}</td>\n",
       "      <td>1.00</td>\n",
       "    </tr>\n",
       "    <tr>\n",
       "      <th>2</th>\n",
       "      <td>2</td>\n",
       "      <td>1</td>\n",
       "      <td>Moidrey</td>\n",
       "      <td>2025-09-04 21:00:00</td>\n",
       "      <td>1757019600</td>\n",
       "      <td>13.47</td>\n",
       "      <td>13.47</td>\n",
       "      <td>13.47</td>\n",
       "      <td>1017</td>\n",
       "      <td>89</td>\n",
       "      <td>Rain</td>\n",
       "      <td>light rain</td>\n",
       "      <td>{'all': 75}</td>\n",
       "      <td>1.00</td>\n",
       "    </tr>\n",
       "    <tr>\n",
       "      <th>3</th>\n",
       "      <td>3</td>\n",
       "      <td>1</td>\n",
       "      <td>Moidrey</td>\n",
       "      <td>2025-09-05 00:00:00</td>\n",
       "      <td>1757030400</td>\n",
       "      <td>12.21</td>\n",
       "      <td>12.21</td>\n",
       "      <td>12.21</td>\n",
       "      <td>1018</td>\n",
       "      <td>91</td>\n",
       "      <td>Rain</td>\n",
       "      <td>light rain</td>\n",
       "      <td>{'all': 51}</td>\n",
       "      <td>1.00</td>\n",
       "    </tr>\n",
       "    <tr>\n",
       "      <th>4</th>\n",
       "      <td>4</td>\n",
       "      <td>1</td>\n",
       "      <td>Moidrey</td>\n",
       "      <td>2025-09-05 03:00:00</td>\n",
       "      <td>1757041200</td>\n",
       "      <td>11.60</td>\n",
       "      <td>11.60</td>\n",
       "      <td>11.60</td>\n",
       "      <td>1019</td>\n",
       "      <td>92</td>\n",
       "      <td>Clouds</td>\n",
       "      <td>few clouds</td>\n",
       "      <td>{'all': 16}</td>\n",
       "      <td>0.00</td>\n",
       "    </tr>\n",
       "    <tr>\n",
       "      <th>...</th>\n",
       "      <td>...</td>\n",
       "      <td>...</td>\n",
       "      <td>...</td>\n",
       "      <td>...</td>\n",
       "      <td>...</td>\n",
       "      <td>...</td>\n",
       "      <td>...</td>\n",
       "      <td>...</td>\n",
       "      <td>...</td>\n",
       "      <td>...</td>\n",
       "      <td>...</td>\n",
       "      <td>...</td>\n",
       "      <td>...</td>\n",
       "      <td>...</td>\n",
       "    </tr>\n",
       "    <tr>\n",
       "      <th>170</th>\n",
       "      <td>1360</td>\n",
       "      <td>35</td>\n",
       "      <td>La Rochelle</td>\n",
       "      <td>2025-09-04 15:00:00</td>\n",
       "      <td>1756998000</td>\n",
       "      <td>21.60</td>\n",
       "      <td>20.67</td>\n",
       "      <td>21.60</td>\n",
       "      <td>1015</td>\n",
       "      <td>61</td>\n",
       "      <td>Clouds</td>\n",
       "      <td>scattered clouds</td>\n",
       "      <td>{'all': 50}</td>\n",
       "      <td>0.00</td>\n",
       "    </tr>\n",
       "    <tr>\n",
       "      <th>171</th>\n",
       "      <td>1361</td>\n",
       "      <td>35</td>\n",
       "      <td>La Rochelle</td>\n",
       "      <td>2025-09-04 18:00:00</td>\n",
       "      <td>1757008800</td>\n",
       "      <td>20.14</td>\n",
       "      <td>19.17</td>\n",
       "      <td>20.14</td>\n",
       "      <td>1016</td>\n",
       "      <td>69</td>\n",
       "      <td>Rain</td>\n",
       "      <td>light rain</td>\n",
       "      <td>{'all': 25}</td>\n",
       "      <td>0.20</td>\n",
       "    </tr>\n",
       "    <tr>\n",
       "      <th>172</th>\n",
       "      <td>1362</td>\n",
       "      <td>35</td>\n",
       "      <td>La Rochelle</td>\n",
       "      <td>2025-09-04 21:00:00</td>\n",
       "      <td>1757019600</td>\n",
       "      <td>16.31</td>\n",
       "      <td>16.31</td>\n",
       "      <td>16.31</td>\n",
       "      <td>1020</td>\n",
       "      <td>79</td>\n",
       "      <td>Rain</td>\n",
       "      <td>light rain</td>\n",
       "      <td>{'all': 2}</td>\n",
       "      <td>1.00</td>\n",
       "    </tr>\n",
       "    <tr>\n",
       "      <th>173</th>\n",
       "      <td>1363</td>\n",
       "      <td>35</td>\n",
       "      <td>La Rochelle</td>\n",
       "      <td>2025-09-05 00:00:00</td>\n",
       "      <td>1757030400</td>\n",
       "      <td>15.06</td>\n",
       "      <td>15.06</td>\n",
       "      <td>15.06</td>\n",
       "      <td>1021</td>\n",
       "      <td>78</td>\n",
       "      <td>Rain</td>\n",
       "      <td>light rain</td>\n",
       "      <td>{'all': 3}</td>\n",
       "      <td>0.81</td>\n",
       "    </tr>\n",
       "    <tr>\n",
       "      <th>174</th>\n",
       "      <td>1364</td>\n",
       "      <td>35</td>\n",
       "      <td>La Rochelle</td>\n",
       "      <td>2025-09-05 03:00:00</td>\n",
       "      <td>1757041200</td>\n",
       "      <td>14.40</td>\n",
       "      <td>14.40</td>\n",
       "      <td>14.40</td>\n",
       "      <td>1021</td>\n",
       "      <td>80</td>\n",
       "      <td>Clear</td>\n",
       "      <td>clear sky</td>\n",
       "      <td>{'all': 0}</td>\n",
       "      <td>0.00</td>\n",
       "    </tr>\n",
       "  </tbody>\n",
       "</table>\n",
       "<p>175 rows × 14 columns</p>\n",
       "</div>"
      ],
      "text/plain": [
       "     index  destination_id  destination               dt_txt          dt  \\\n",
       "0        0               1      Moidrey  2025-09-04 15:00:00  1756998000   \n",
       "1        1               1      Moidrey  2025-09-04 18:00:00  1757008800   \n",
       "2        2               1      Moidrey  2025-09-04 21:00:00  1757019600   \n",
       "3        3               1      Moidrey  2025-09-05 00:00:00  1757030400   \n",
       "4        4               1      Moidrey  2025-09-05 03:00:00  1757041200   \n",
       "..     ...             ...          ...                  ...         ...   \n",
       "170   1360              35  La Rochelle  2025-09-04 15:00:00  1756998000   \n",
       "171   1361              35  La Rochelle  2025-09-04 18:00:00  1757008800   \n",
       "172   1362              35  La Rochelle  2025-09-04 21:00:00  1757019600   \n",
       "173   1363              35  La Rochelle  2025-09-05 00:00:00  1757030400   \n",
       "174   1364              35  La Rochelle  2025-09-05 03:00:00  1757041200   \n",
       "\n",
       "      temp  temp_min  temp_max  pressure  humidity weather_main  \\\n",
       "0    20.05     19.67     20.05      1011        58         Rain   \n",
       "1    18.09     17.01     18.09      1013        69         Rain   \n",
       "2    13.47     13.47     13.47      1017        89         Rain   \n",
       "3    12.21     12.21     12.21      1018        91         Rain   \n",
       "4    11.60     11.60     11.60      1019        92       Clouds   \n",
       "..     ...       ...       ...       ...       ...          ...   \n",
       "170  21.60     20.67     21.60      1015        61       Clouds   \n",
       "171  20.14     19.17     20.14      1016        69         Rain   \n",
       "172  16.31     16.31     16.31      1020        79         Rain   \n",
       "173  15.06     15.06     15.06      1021        78         Rain   \n",
       "174  14.40     14.40     14.40      1021        80        Clear   \n",
       "\n",
       "        weather_descr clouds_info_dict   pop  \n",
       "0          light rain      {'all': 58}  0.20  \n",
       "1          light rain      {'all': 58}  1.00  \n",
       "2          light rain      {'all': 75}  1.00  \n",
       "3          light rain      {'all': 51}  1.00  \n",
       "4          few clouds      {'all': 16}  0.00  \n",
       "..                ...              ...   ...  \n",
       "170  scattered clouds      {'all': 50}  0.00  \n",
       "171        light rain      {'all': 25}  0.20  \n",
       "172        light rain       {'all': 2}  1.00  \n",
       "173        light rain       {'all': 3}  0.81  \n",
       "174         clear sky       {'all': 0}  0.00  \n",
       "\n",
       "[175 rows x 14 columns]"
      ]
     },
     "execution_count": 7,
     "metadata": {},
     "output_type": "execute_result"
    }
   ],
   "source": [
    "weather_forecasts_dtf.groupby('destination').head(5).reset_index()"
   ]
  },
  {
   "cell_type": "markdown",
   "metadata": {},
   "source": [
    "#### Rename weather forecast destination values with dest_coordinates destination values mapped to destination_id ####\n",
    "#### in order to have same destination names accross all datasets ####\n",
    "\n",
    "#### Convert dt column to datetime ####"
   ]
  },
  {
   "cell_type": "code",
   "execution_count": null,
   "metadata": {},
   "outputs": [
    {
     "data": {
      "text/html": [
       "<div>\n",
       "<style scoped>\n",
       "    .dataframe tbody tr th:only-of-type {\n",
       "        vertical-align: middle;\n",
       "    }\n",
       "\n",
       "    .dataframe tbody tr th {\n",
       "        vertical-align: top;\n",
       "    }\n",
       "\n",
       "    .dataframe thead th {\n",
       "        text-align: right;\n",
       "    }\n",
       "</style>\n",
       "<table border=\"1\" class=\"dataframe\">\n",
       "  <thead>\n",
       "    <tr style=\"text-align: right;\">\n",
       "      <th></th>\n",
       "      <th>destination_id</th>\n",
       "      <th>destination</th>\n",
       "      <th>dt</th>\n",
       "      <th>temp</th>\n",
       "      <th>temp_min</th>\n",
       "      <th>temp_max</th>\n",
       "      <th>pressure</th>\n",
       "      <th>humidity</th>\n",
       "      <th>weather_main</th>\n",
       "      <th>weather_descr</th>\n",
       "      <th>clouds_info_dict</th>\n",
       "      <th>pop</th>\n",
       "    </tr>\n",
       "  </thead>\n",
       "  <tbody>\n",
       "    <tr>\n",
       "      <th>0</th>\n",
       "      <td>1</td>\n",
       "      <td>Mont Saint-Michel</td>\n",
       "      <td>2025-09-04 15:00:00</td>\n",
       "      <td>20.05</td>\n",
       "      <td>19.67</td>\n",
       "      <td>20.05</td>\n",
       "      <td>1011</td>\n",
       "      <td>58</td>\n",
       "      <td>Rain</td>\n",
       "      <td>light rain</td>\n",
       "      <td>{'all': 58}</td>\n",
       "      <td>0.2</td>\n",
       "    </tr>\n",
       "    <tr>\n",
       "      <th>1</th>\n",
       "      <td>1</td>\n",
       "      <td>Mont Saint-Michel</td>\n",
       "      <td>2025-09-04 18:00:00</td>\n",
       "      <td>18.09</td>\n",
       "      <td>17.01</td>\n",
       "      <td>18.09</td>\n",
       "      <td>1013</td>\n",
       "      <td>69</td>\n",
       "      <td>Rain</td>\n",
       "      <td>light rain</td>\n",
       "      <td>{'all': 58}</td>\n",
       "      <td>1.0</td>\n",
       "    </tr>\n",
       "    <tr>\n",
       "      <th>2</th>\n",
       "      <td>1</td>\n",
       "      <td>Mont Saint-Michel</td>\n",
       "      <td>2025-09-04 21:00:00</td>\n",
       "      <td>13.47</td>\n",
       "      <td>13.47</td>\n",
       "      <td>13.47</td>\n",
       "      <td>1017</td>\n",
       "      <td>89</td>\n",
       "      <td>Rain</td>\n",
       "      <td>light rain</td>\n",
       "      <td>{'all': 75}</td>\n",
       "      <td>1.0</td>\n",
       "    </tr>\n",
       "    <tr>\n",
       "      <th>3</th>\n",
       "      <td>1</td>\n",
       "      <td>Mont Saint-Michel</td>\n",
       "      <td>2025-09-05 00:00:00</td>\n",
       "      <td>12.21</td>\n",
       "      <td>12.21</td>\n",
       "      <td>12.21</td>\n",
       "      <td>1018</td>\n",
       "      <td>91</td>\n",
       "      <td>Rain</td>\n",
       "      <td>light rain</td>\n",
       "      <td>{'all': 51}</td>\n",
       "      <td>1.0</td>\n",
       "    </tr>\n",
       "    <tr>\n",
       "      <th>4</th>\n",
       "      <td>1</td>\n",
       "      <td>Mont Saint-Michel</td>\n",
       "      <td>2025-09-05 03:00:00</td>\n",
       "      <td>11.60</td>\n",
       "      <td>11.60</td>\n",
       "      <td>11.60</td>\n",
       "      <td>1019</td>\n",
       "      <td>92</td>\n",
       "      <td>Clouds</td>\n",
       "      <td>few clouds</td>\n",
       "      <td>{'all': 16}</td>\n",
       "      <td>0.0</td>\n",
       "    </tr>\n",
       "  </tbody>\n",
       "</table>\n",
       "</div>"
      ],
      "text/plain": [
       "   destination_id        destination                  dt   temp  temp_min  \\\n",
       "0               1  Mont Saint-Michel 2025-09-04 15:00:00  20.05     19.67   \n",
       "1               1  Mont Saint-Michel 2025-09-04 18:00:00  18.09     17.01   \n",
       "2               1  Mont Saint-Michel 2025-09-04 21:00:00  13.47     13.47   \n",
       "3               1  Mont Saint-Michel 2025-09-05 00:00:00  12.21     12.21   \n",
       "4               1  Mont Saint-Michel 2025-09-05 03:00:00  11.60     11.60   \n",
       "\n",
       "   temp_max  pressure  humidity weather_main weather_descr clouds_info_dict  \\\n",
       "0     20.05      1011        58         Rain    light rain      {'all': 58}   \n",
       "1     18.09      1013        69         Rain    light rain      {'all': 58}   \n",
       "2     13.47      1017        89         Rain    light rain      {'all': 75}   \n",
       "3     12.21      1018        91         Rain    light rain      {'all': 51}   \n",
       "4     11.60      1019        92       Clouds    few clouds      {'all': 16}   \n",
       "\n",
       "   pop  \n",
       "0  0.2  \n",
       "1  1.0  \n",
       "2  1.0  \n",
       "3  1.0  \n",
       "4  0.0  "
      ]
     },
     "execution_count": 8,
     "metadata": {},
     "output_type": "execute_result"
    }
   ],
   "source": [
    "#update weather forecast destination values with dest_coordinates destination name values mapped to destination_id\n",
    "destination_id_to_name_mapping = dict(zip(dest_coordinates_dtf['destination_id'],dest_coordinates_dtf['destination'] ))\n",
    "weather_forecasts_dtf['destination']= weather_forecasts_dtf['destination_id'].map(destination_id_to_name_mapping)\n",
    "weather_forecasts_dtf['dt'] = pd.to_datetime(weather_forecasts_dtf['dt'], unit='s')\n",
    "# remove dt_txt column\n",
    "weather_forecasts_dtf.drop(['dt_txt'], axis=1, inplace=True)\n",
    "weather_forecasts_dtf.head(5)"
   ]
  },
  {
   "cell_type": "code",
   "execution_count": 9,
   "metadata": {},
   "outputs": [
    {
     "data": {
      "text/plain": [
       "destination_id               int64\n",
       "destination                 object\n",
       "dt                  datetime64[ns]\n",
       "temp                       float64\n",
       "temp_min                   float64\n",
       "temp_max                   float64\n",
       "pressure                     int64\n",
       "humidity                     int64\n",
       "weather_main                object\n",
       "weather_descr               object\n",
       "clouds_info_dict            object\n",
       "pop                        float64\n",
       "dtype: object"
      ]
     },
     "execution_count": 9,
     "metadata": {},
     "output_type": "execute_result"
    }
   ],
   "source": [
    "weather_forecasts_dtf.dtypes"
   ]
  },
  {
   "cell_type": "code",
   "execution_count": 10,
   "metadata": {},
   "outputs": [],
   "source": [
    "# save dataset as csv\n",
    "output_file_path = 'data/output/destination_weatherforecasts.csv'\n",
    "remove_file_if_exists(output_file_path)\n",
    "weather_forecasts_dtf.to_csv(output_file_path, encoding='utf-8',sep=',',index = False)\n",
    "#output_dtf = weather_forecasts_dtf.loc[(weather_forecasts_dtf['dt'] - pd.Timestamp.now().replace(hour=0, minute=0, second=0, microsecond=0)).dt.days<=DAYS_OFFSET_MAX,: ]"
   ]
  },
  {
   "cell_type": "markdown",
   "metadata": {},
   "source": [
    "#### OPTIONAL (read weather forecast dataset back from csv ) ####"
   ]
  },
  {
   "cell_type": "code",
   "execution_count": 141,
   "metadata": {},
   "outputs": [
    {
     "data": {
      "text/html": [
       "<div>\n",
       "<style scoped>\n",
       "    .dataframe tbody tr th:only-of-type {\n",
       "        vertical-align: middle;\n",
       "    }\n",
       "\n",
       "    .dataframe tbody tr th {\n",
       "        vertical-align: top;\n",
       "    }\n",
       "\n",
       "    .dataframe thead th {\n",
       "        text-align: right;\n",
       "    }\n",
       "</style>\n",
       "<table border=\"1\" class=\"dataframe\">\n",
       "  <thead>\n",
       "    <tr style=\"text-align: right;\">\n",
       "      <th></th>\n",
       "      <th>destination_id</th>\n",
       "      <th>destination</th>\n",
       "      <th>dt</th>\n",
       "      <th>temp</th>\n",
       "      <th>temp_min</th>\n",
       "      <th>temp_max</th>\n",
       "      <th>pressure</th>\n",
       "      <th>humidity</th>\n",
       "      <th>weather_main</th>\n",
       "      <th>weather_descr</th>\n",
       "      <th>clouds_info_dict</th>\n",
       "      <th>pop</th>\n",
       "    </tr>\n",
       "  </thead>\n",
       "  <tbody>\n",
       "    <tr>\n",
       "      <th>0</th>\n",
       "      <td>1</td>\n",
       "      <td>Mont Saint-Michel</td>\n",
       "      <td>2025-09-04 15:00:00</td>\n",
       "      <td>20.05</td>\n",
       "      <td>19.67</td>\n",
       "      <td>20.05</td>\n",
       "      <td>1011</td>\n",
       "      <td>58</td>\n",
       "      <td>Rain</td>\n",
       "      <td>light rain</td>\n",
       "      <td>{'all': 58}</td>\n",
       "      <td>0.2</td>\n",
       "    </tr>\n",
       "    <tr>\n",
       "      <th>1</th>\n",
       "      <td>1</td>\n",
       "      <td>Mont Saint-Michel</td>\n",
       "      <td>2025-09-04 18:00:00</td>\n",
       "      <td>18.09</td>\n",
       "      <td>17.01</td>\n",
       "      <td>18.09</td>\n",
       "      <td>1013</td>\n",
       "      <td>69</td>\n",
       "      <td>Rain</td>\n",
       "      <td>light rain</td>\n",
       "      <td>{'all': 58}</td>\n",
       "      <td>1.0</td>\n",
       "    </tr>\n",
       "    <tr>\n",
       "      <th>2</th>\n",
       "      <td>1</td>\n",
       "      <td>Mont Saint-Michel</td>\n",
       "      <td>2025-09-04 21:00:00</td>\n",
       "      <td>13.47</td>\n",
       "      <td>13.47</td>\n",
       "      <td>13.47</td>\n",
       "      <td>1017</td>\n",
       "      <td>89</td>\n",
       "      <td>Rain</td>\n",
       "      <td>light rain</td>\n",
       "      <td>{'all': 75}</td>\n",
       "      <td>1.0</td>\n",
       "    </tr>\n",
       "    <tr>\n",
       "      <th>3</th>\n",
       "      <td>1</td>\n",
       "      <td>Mont Saint-Michel</td>\n",
       "      <td>2025-09-05 00:00:00</td>\n",
       "      <td>12.21</td>\n",
       "      <td>12.21</td>\n",
       "      <td>12.21</td>\n",
       "      <td>1018</td>\n",
       "      <td>91</td>\n",
       "      <td>Rain</td>\n",
       "      <td>light rain</td>\n",
       "      <td>{'all': 51}</td>\n",
       "      <td>1.0</td>\n",
       "    </tr>\n",
       "    <tr>\n",
       "      <th>4</th>\n",
       "      <td>1</td>\n",
       "      <td>Mont Saint-Michel</td>\n",
       "      <td>2025-09-05 03:00:00</td>\n",
       "      <td>11.60</td>\n",
       "      <td>11.60</td>\n",
       "      <td>11.60</td>\n",
       "      <td>1019</td>\n",
       "      <td>92</td>\n",
       "      <td>Clouds</td>\n",
       "      <td>few clouds</td>\n",
       "      <td>{'all': 16}</td>\n",
       "      <td>0.0</td>\n",
       "    </tr>\n",
       "  </tbody>\n",
       "</table>\n",
       "</div>"
      ],
      "text/plain": [
       "   destination_id        destination                  dt   temp  temp_min  \\\n",
       "0               1  Mont Saint-Michel 2025-09-04 15:00:00  20.05     19.67   \n",
       "1               1  Mont Saint-Michel 2025-09-04 18:00:00  18.09     17.01   \n",
       "2               1  Mont Saint-Michel 2025-09-04 21:00:00  13.47     13.47   \n",
       "3               1  Mont Saint-Michel 2025-09-05 00:00:00  12.21     12.21   \n",
       "4               1  Mont Saint-Michel 2025-09-05 03:00:00  11.60     11.60   \n",
       "\n",
       "   temp_max  pressure  humidity weather_main weather_descr clouds_info_dict  \\\n",
       "0     20.05      1011        58         Rain    light rain      {'all': 58}   \n",
       "1     18.09      1013        69         Rain    light rain      {'all': 58}   \n",
       "2     13.47      1017        89         Rain    light rain      {'all': 75}   \n",
       "3     12.21      1018        91         Rain    light rain      {'all': 51}   \n",
       "4     11.60      1019        92       Clouds    few clouds      {'all': 16}   \n",
       "\n",
       "   pop  \n",
       "0  0.2  \n",
       "1  1.0  \n",
       "2  1.0  \n",
       "3  1.0  \n",
       "4  0.0  "
      ]
     },
     "execution_count": 141,
     "metadata": {},
     "output_type": "execute_result"
    }
   ],
   "source": [
    "output_file_path = 'data/output/destination_weatherforecasts.csv'\n",
    "weather_forecasts_dtf = pd.read_csv(output_file_path, encoding='utf-8',sep=',', parse_dates=[\"dt\"])\n",
    "weather_forecasts_dtf.head(5)"
   ]
  },
  {
   "cell_type": "code",
   "execution_count": 11,
   "metadata": {},
   "outputs": [
    {
     "data": {
      "text/plain": [
       "destination_id               int64\n",
       "destination                 object\n",
       "dt                  datetime64[ns]\n",
       "temp                       float64\n",
       "temp_min                   float64\n",
       "temp_max                   float64\n",
       "pressure                     int64\n",
       "humidity                     int64\n",
       "weather_main                object\n",
       "weather_descr               object\n",
       "clouds_info_dict            object\n",
       "pop                        float64\n",
       "dtype: object"
      ]
     },
     "execution_count": 11,
     "metadata": {},
     "output_type": "execute_result"
    }
   ],
   "source": [
    "weather_forecasts_dtf.dtypes"
   ]
  },
  {
   "cell_type": "markdown",
   "metadata": {},
   "source": [
    "### Compute weather forecast start date and end date ###\n",
    "\n",
    "#### This will drive the booking start date and end date input parameters ####"
   ]
  },
  {
   "cell_type": "code",
   "execution_count": 142,
   "metadata": {},
   "outputs": [
    {
     "name": "stdout",
     "output_type": "stream",
     "text": [
      "weather_forecast_start_date : 2025-09-04 00:00:00\n",
      "weather_forecast_end_date : 2025-09-09 00:00:00\n",
      "DAYS_OFFSET_MAX : 5\n"
     ]
    }
   ],
   "source": [
    "#weather_forecasts_dtf['weather_main'].unique()\n",
    "weather_forecast_start_date = weather_forecasts_dtf['dt'].min().replace(hour=0, minute=0, second=0, microsecond=0)\n",
    "weather_forecast_end_date = weather_forecasts_dtf['dt'].max().replace(hour=0, minute=0, second=0, microsecond=0)\n",
    "#weather_forecast_end_date = weather_forecast_start_date + timedelta(days=7)\n",
    "print(f'weather_forecast_start_date : {weather_forecast_start_date}')\n",
    "print(f'weather_forecast_end_date : {weather_forecast_end_date}')\n",
    "\n",
    "DAYS_OFFSET_MAX = (weather_forecast_end_date - weather_forecast_start_date).days\n",
    "\n",
    "print(f'DAYS_OFFSET_MAX : {DAYS_OFFSET_MAX}')"
   ]
  },
  {
   "cell_type": "markdown",
   "metadata": {},
   "source": [
    "#### Compute top destinations based on best* weather forecasts score ####"
   ]
  },
  {
   "cell_type": "code",
   "execution_count": 143,
   "metadata": {},
   "outputs": [
    {
     "data": {
      "text/html": [
       "<div>\n",
       "<style scoped>\n",
       "    .dataframe tbody tr th:only-of-type {\n",
       "        vertical-align: middle;\n",
       "    }\n",
       "\n",
       "    .dataframe tbody tr th {\n",
       "        vertical-align: top;\n",
       "    }\n",
       "\n",
       "    .dataframe thead th {\n",
       "        text-align: right;\n",
       "    }\n",
       "</style>\n",
       "<table border=\"1\" class=\"dataframe\">\n",
       "  <thead>\n",
       "    <tr style=\"text-align: right;\">\n",
       "      <th></th>\n",
       "      <th>destination_id</th>\n",
       "      <th>destination</th>\n",
       "      <th>weather_median_score</th>\n",
       "      <th>avg_temp</th>\n",
       "      <th>weather_rank</th>\n",
       "    </tr>\n",
       "  </thead>\n",
       "  <tbody>\n",
       "    <tr>\n",
       "      <th>21</th>\n",
       "      <td>22</td>\n",
       "      <td>Aix-en-Provence</td>\n",
       "      <td>6.0</td>\n",
       "      <td>23.56375</td>\n",
       "      <td>1</td>\n",
       "    </tr>\n",
       "    <tr>\n",
       "      <th>20</th>\n",
       "      <td>21</td>\n",
       "      <td>Marseille</td>\n",
       "      <td>6.0</td>\n",
       "      <td>23.53200</td>\n",
       "      <td>2</td>\n",
       "    </tr>\n",
       "    <tr>\n",
       "      <th>19</th>\n",
       "      <td>20</td>\n",
       "      <td>Cassis</td>\n",
       "      <td>6.0</td>\n",
       "      <td>22.65925</td>\n",
       "      <td>3</td>\n",
       "    </tr>\n",
       "    <tr>\n",
       "      <th>27</th>\n",
       "      <td>28</td>\n",
       "      <td>Collioure</td>\n",
       "      <td>6.0</td>\n",
       "      <td>22.52875</td>\n",
       "      <td>4</td>\n",
       "    </tr>\n",
       "    <tr>\n",
       "      <th>24</th>\n",
       "      <td>25</td>\n",
       "      <td>Nîmes</td>\n",
       "      <td>6.0</td>\n",
       "      <td>22.35475</td>\n",
       "      <td>5</td>\n",
       "    </tr>\n",
       "  </tbody>\n",
       "</table>\n",
       "</div>"
      ],
      "text/plain": [
       "    destination_id      destination  weather_median_score  avg_temp  \\\n",
       "21              22  Aix-en-Provence                   6.0  23.56375   \n",
       "20              21        Marseille                   6.0  23.53200   \n",
       "19              20           Cassis                   6.0  22.65925   \n",
       "27              28        Collioure                   6.0  22.52875   \n",
       "24              25            Nîmes                   6.0  22.35475   \n",
       "\n",
       "    weather_rank  \n",
       "21             1  \n",
       "20             2  \n",
       "19             3  \n",
       "27             4  \n",
       "24             5  "
      ]
     },
     "execution_count": 143,
     "metadata": {},
     "output_type": "execute_result"
    }
   ],
   "source": [
    "''' *\n",
    "for each weather forecast (row) we define an arbitrary score based on weather_main considering Clear sky is the best score\n",
    "then 2 aggregations are defined for each destination\n",
    "1. median score (weather_median_score)\n",
    "2. average temperature (avg_temp)\n",
    "Then we compute a two-levels ranking based on 1 and 2 \n",
    "'''\n",
    "\n",
    "weather_main_score_mapping = {'Clear':10, 'Clouds':6, 'Mist':4, 'Snow':4, 'Rain':4, 'Thunderstorm':2}\n",
    "weather_forecasts_dtf_copy = weather_forecasts_dtf.copy()\n",
    "weather_forecasts_dtf_copy['weather_score'] = weather_forecasts_dtf_copy['weather_main'].map(weather_main_score_mapping).astype(int)\n",
    "scores_by_destination_dtf = weather_forecasts_dtf_copy.loc[(weather_forecasts_dtf_copy['dt'] - weather_forecast_start_date).dt.days<=DAYS_OFFSET_MAX,: ].groupby(['destination_id','destination']).agg(weather_median_score=('weather_score','median'), avg_temp=('temp','mean'))\n",
    "scores_by_destination_dtf.reset_index(inplace=True)\n",
    "TOP_N_DESTINATION = 5\n",
    "scores_by_destination_dtf.sort_values(['weather_median_score', 'avg_temp'], ascending = [False, False], inplace=True)\n",
    "scores_by_destination_dtf['weather_rank'] = scores_by_destination_dtf[['weather_median_score', 'avg_temp']].apply(tuple,axis=1).rank(method='dense',ascending=False).astype(int)\n",
    "scores_by_destination_dtf.sort_values(['weather_rank'], ascending=[True],inplace=True)\n",
    "top_destination_dtf = scores_by_destination_dtf.head(TOP_N_DESTINATION)\n",
    "top_destination_dtf\n"
   ]
  },
  {
   "cell_type": "markdown",
   "metadata": {},
   "source": [
    "#### Save weather metrics by destination ####"
   ]
  },
  {
   "cell_type": "code",
   "execution_count": 144,
   "metadata": {},
   "outputs": [],
   "source": [
    "scores_by_destination_dtf.head(10)\n",
    "# save dataset as csv\n",
    "output_file_path = 'data/output/destination_weatherscores.csv'\n",
    "remove_file_if_exists(output_file_path)\n",
    "scores_by_destination_dtf.to_csv(output_file_path, encoding='utf-8',sep=',',index = False)"
   ]
  },
  {
   "cell_type": "markdown",
   "metadata": {},
   "source": [
    "#### ALTERNATIVE - compute top destinations based on best median temperature ####"
   ]
  },
  {
   "cell_type": "code",
   "execution_count": 8,
   "metadata": {},
   "outputs": [
    {
     "data": {
      "text/html": [
       "<div>\n",
       "<style scoped>\n",
       "    .dataframe tbody tr th:only-of-type {\n",
       "        vertical-align: middle;\n",
       "    }\n",
       "\n",
       "    .dataframe tbody tr th {\n",
       "        vertical-align: top;\n",
       "    }\n",
       "\n",
       "    .dataframe thead th {\n",
       "        text-align: right;\n",
       "    }\n",
       "</style>\n",
       "<table border=\"1\" class=\"dataframe\">\n",
       "  <thead>\n",
       "    <tr style=\"text-align: right;\">\n",
       "      <th></th>\n",
       "      <th>destination_id</th>\n",
       "      <th>destination</th>\n",
       "      <th>median_temp</th>\n",
       "      <th>weather_rank</th>\n",
       "    </tr>\n",
       "  </thead>\n",
       "  <tbody>\n",
       "    <tr>\n",
       "      <th>20</th>\n",
       "      <td>21</td>\n",
       "      <td>Marseille</td>\n",
       "      <td>24.040</td>\n",
       "      <td>1</td>\n",
       "    </tr>\n",
       "    <tr>\n",
       "      <th>21</th>\n",
       "      <td>22</td>\n",
       "      <td>Aix-en-Provence</td>\n",
       "      <td>23.480</td>\n",
       "      <td>2</td>\n",
       "    </tr>\n",
       "    <tr>\n",
       "      <th>19</th>\n",
       "      <td>20</td>\n",
       "      <td>Cassis</td>\n",
       "      <td>23.250</td>\n",
       "      <td>3</td>\n",
       "    </tr>\n",
       "    <tr>\n",
       "      <th>27</th>\n",
       "      <td>28</td>\n",
       "      <td>Collioure</td>\n",
       "      <td>22.205</td>\n",
       "      <td>4</td>\n",
       "    </tr>\n",
       "    <tr>\n",
       "      <th>26</th>\n",
       "      <td>27</td>\n",
       "      <td>Saintes-Maries-de-la-Mer</td>\n",
       "      <td>22.145</td>\n",
       "      <td>5</td>\n",
       "    </tr>\n",
       "  </tbody>\n",
       "</table>\n",
       "</div>"
      ],
      "text/plain": [
       "    destination_id               destination  median_temp  weather_rank\n",
       "20              21                 Marseille       24.040             1\n",
       "21              22           Aix-en-Provence       23.480             2\n",
       "19              20                    Cassis       23.250             3\n",
       "27              28                 Collioure       22.205             4\n",
       "26              27  Saintes-Maries-de-la-Mer       22.145             5"
      ]
     },
     "execution_count": 8,
     "metadata": {},
     "output_type": "execute_result"
    }
   ],
   "source": [
    "#top_destination_dtf[['destination_id', 'destination']].iloc[0].to_dict()\n",
    "DAYS_OFFSET_MAX = 7\n",
    "scores_by_destination_dtf = weather_forecasts_dtf.loc[(weather_forecasts_dtf['dt'] - weather_forecast_start_date).dt.days<=DAYS_OFFSET_MAX,: ].groupby(['destination_id','destination']).agg(median_temp=('temp','median'))\n",
    "scores_by_destination_dtf.reset_index(inplace=True)\n",
    "TOP_N_DESTINATION = 5\n",
    "scores_by_destination_dtf.sort_values(['median_temp'], ascending = [False], inplace=True)\n",
    "scores_by_destination_dtf['weather_rank'] = scores_by_destination_dtf[['median_temp']].apply(tuple,axis=1).rank(method='dense',ascending=False).astype(int)\n",
    "top_destination_dtf = scores_by_destination_dtf.head(TOP_N_DESTINATION)\n",
    "top_destination_dtf"
   ]
  },
  {
   "cell_type": "markdown",
   "metadata": {},
   "source": [
    "#### add destination coordinates (merge) to top destination dataframe ####"
   ]
  },
  {
   "cell_type": "code",
   "execution_count": 145,
   "metadata": {},
   "outputs": [
    {
     "data": {
      "text/html": [
       "<div>\n",
       "<style scoped>\n",
       "    .dataframe tbody tr th:only-of-type {\n",
       "        vertical-align: middle;\n",
       "    }\n",
       "\n",
       "    .dataframe tbody tr th {\n",
       "        vertical-align: top;\n",
       "    }\n",
       "\n",
       "    .dataframe thead th {\n",
       "        text-align: right;\n",
       "    }\n",
       "</style>\n",
       "<table border=\"1\" class=\"dataframe\">\n",
       "  <thead>\n",
       "    <tr style=\"text-align: right;\">\n",
       "      <th></th>\n",
       "      <th>destination_id</th>\n",
       "      <th>destination</th>\n",
       "      <th>weather_median_score</th>\n",
       "      <th>avg_temp</th>\n",
       "      <th>weather_rank</th>\n",
       "      <th>destination_key</th>\n",
       "      <th>gps_long</th>\n",
       "      <th>gps_lat</th>\n",
       "    </tr>\n",
       "  </thead>\n",
       "  <tbody>\n",
       "    <tr>\n",
       "      <th>0</th>\n",
       "      <td>22</td>\n",
       "      <td>Aix-en-Provence</td>\n",
       "      <td>6.0</td>\n",
       "      <td>23.56375</td>\n",
       "      <td>1</td>\n",
       "      <td>Aix en Provence</td>\n",
       "      <td>5.447474</td>\n",
       "      <td>43.529842</td>\n",
       "    </tr>\n",
       "    <tr>\n",
       "      <th>1</th>\n",
       "      <td>21</td>\n",
       "      <td>Marseille</td>\n",
       "      <td>6.0</td>\n",
       "      <td>23.53200</td>\n",
       "      <td>2</td>\n",
       "      <td>Marseille</td>\n",
       "      <td>5.369953</td>\n",
       "      <td>43.296174</td>\n",
       "    </tr>\n",
       "    <tr>\n",
       "      <th>2</th>\n",
       "      <td>20</td>\n",
       "      <td>Cassis</td>\n",
       "      <td>6.0</td>\n",
       "      <td>22.65925</td>\n",
       "      <td>3</td>\n",
       "      <td>Cassis</td>\n",
       "      <td>5.539632</td>\n",
       "      <td>43.214036</td>\n",
       "    </tr>\n",
       "    <tr>\n",
       "      <th>3</th>\n",
       "      <td>28</td>\n",
       "      <td>Collioure</td>\n",
       "      <td>6.0</td>\n",
       "      <td>22.52875</td>\n",
       "      <td>4</td>\n",
       "      <td>Collioure</td>\n",
       "      <td>3.083155</td>\n",
       "      <td>42.525050</td>\n",
       "    </tr>\n",
       "    <tr>\n",
       "      <th>4</th>\n",
       "      <td>25</td>\n",
       "      <td>Nîmes</td>\n",
       "      <td>6.0</td>\n",
       "      <td>22.35475</td>\n",
       "      <td>5</td>\n",
       "      <td>Nimes</td>\n",
       "      <td>4.360069</td>\n",
       "      <td>43.837425</td>\n",
       "    </tr>\n",
       "  </tbody>\n",
       "</table>\n",
       "</div>"
      ],
      "text/plain": [
       "   destination_id      destination  weather_median_score  avg_temp  \\\n",
       "0              22  Aix-en-Provence                   6.0  23.56375   \n",
       "1              21        Marseille                   6.0  23.53200   \n",
       "2              20           Cassis                   6.0  22.65925   \n",
       "3              28        Collioure                   6.0  22.52875   \n",
       "4              25            Nîmes                   6.0  22.35475   \n",
       "\n",
       "   weather_rank  destination_key  gps_long    gps_lat  \n",
       "0             1  Aix en Provence  5.447474  43.529842  \n",
       "1             2        Marseille  5.369953  43.296174  \n",
       "2             3           Cassis  5.539632  43.214036  \n",
       "3             4        Collioure  3.083155  42.525050  \n",
       "4             5            Nimes  4.360069  43.837425  "
      ]
     },
     "execution_count": 145,
     "metadata": {},
     "output_type": "execute_result"
    }
   ],
   "source": [
    "top_destination_dtf = pd.merge(left=top_destination_dtf, right=dest_coordinates_dtf, on='destination_id', how='left')\n",
    "top_destination_dtf.drop(['destination_y'], axis=1, inplace=True)\n",
    "top_destination_dtf.rename(columns={'destination_x':'destination'}, inplace=True)\n",
    "top_destination_dtf.head(5)"
   ]
  },
  {
   "cell_type": "code",
   "execution_count": 146,
   "metadata": {},
   "outputs": [
    {
     "data": {
      "text/plain": [
       "destination_id            int64\n",
       "destination              object\n",
       "weather_median_score    float64\n",
       "avg_temp                float64\n",
       "weather_rank              int32\n",
       "destination_key          object\n",
       "gps_long                float64\n",
       "gps_lat                 float64\n",
       "dtype: object"
      ]
     },
     "execution_count": 146,
     "metadata": {},
     "output_type": "execute_result"
    }
   ],
   "source": [
    "top_destination_dtf['gps_long']= top_destination_dtf['gps_long'].astype(float)\n",
    "top_destination_dtf['gps_lat'] = top_destination_dtf['gps_lat'].astype(float)\n",
    "top_destination_dtf.dtypes"
   ]
  },
  {
   "cell_type": "markdown",
   "metadata": {},
   "source": [
    "#### Plot top destination in a map ####"
   ]
  },
  {
   "cell_type": "code",
   "execution_count": 147,
   "metadata": {},
   "outputs": [
    {
     "data": {
      "application/vnd.plotly.v1+json": {
       "config": {
        "plotlyServerURL": "https://plot.ly"
       },
       "data": [
        {
         "hovertemplate": "destination=%{text}<br>gps_lat=%{lat}<br>gps_long=%{lon}<br>weather_rank=%{marker.color}<extra></extra>",
         "lat": [
          43.5298424,
          43.2961743,
          43.2140359,
          42.52505,
          43.8374249
         ],
         "legendgroup": "",
         "lon": [
          5.4474738,
          5.3699525,
          5.5396318,
          3.0831554,
          4.3600687
         ],
         "marker": {
          "color": [
           1,
           2,
           3,
           4,
           5
          ],
          "coloraxis": "coloraxis",
          "size": 20
         },
         "mode": "markers+text",
         "name": "",
         "showlegend": false,
         "subplot": "mapbox",
         "text": [
          "Aix-en-Provence",
          "Marseille",
          "Cassis",
          "Collioure",
          "Nîmes"
         ],
         "type": "scattermapbox"
        }
       ],
       "layout": {
        "coloraxis": {
         "colorbar": {
          "title": {
           "text": "weather_rank"
          }
         },
         "colorscale": [
          [
           0,
           "rgb(0,104,55)"
          ],
          [
           0.1,
           "rgb(26,152,80)"
          ],
          [
           0.2,
           "rgb(102,189,99)"
          ],
          [
           0.3,
           "rgb(166,217,106)"
          ],
          [
           0.4,
           "rgb(217,239,139)"
          ],
          [
           0.5,
           "rgb(255,255,191)"
          ],
          [
           0.6,
           "rgb(254,224,139)"
          ],
          [
           0.7,
           "rgb(253,174,97)"
          ],
          [
           0.8,
           "rgb(244,109,67)"
          ],
          [
           0.9,
           "rgb(215,48,39)"
          ],
          [
           1,
           "rgb(165,0,38)"
          ]
         ]
        },
        "height": 600,
        "legend": {
         "tracegroupgap": 0
        },
        "mapbox": {
         "center": {
          "lat": 43.2805055,
          "lon": 4.7600564400000005
         },
         "domain": {
          "x": [
           0,
           1
          ],
          "y": [
           0,
           1
          ]
         },
         "style": "open-street-map",
         "zoom": 4.5
        },
        "template": {
         "data": {
          "bar": [
           {
            "error_x": {
             "color": "#2a3f5f"
            },
            "error_y": {
             "color": "#2a3f5f"
            },
            "marker": {
             "line": {
              "color": "#E5ECF6",
              "width": 0.5
             },
             "pattern": {
              "fillmode": "overlay",
              "size": 10,
              "solidity": 0.2
             }
            },
            "type": "bar"
           }
          ],
          "barpolar": [
           {
            "marker": {
             "line": {
              "color": "#E5ECF6",
              "width": 0.5
             },
             "pattern": {
              "fillmode": "overlay",
              "size": 10,
              "solidity": 0.2
             }
            },
            "type": "barpolar"
           }
          ],
          "carpet": [
           {
            "aaxis": {
             "endlinecolor": "#2a3f5f",
             "gridcolor": "white",
             "linecolor": "white",
             "minorgridcolor": "white",
             "startlinecolor": "#2a3f5f"
            },
            "baxis": {
             "endlinecolor": "#2a3f5f",
             "gridcolor": "white",
             "linecolor": "white",
             "minorgridcolor": "white",
             "startlinecolor": "#2a3f5f"
            },
            "type": "carpet"
           }
          ],
          "choropleth": [
           {
            "colorbar": {
             "outlinewidth": 0,
             "ticks": ""
            },
            "type": "choropleth"
           }
          ],
          "contour": [
           {
            "colorbar": {
             "outlinewidth": 0,
             "ticks": ""
            },
            "colorscale": [
             [
              0,
              "#0d0887"
             ],
             [
              0.1111111111111111,
              "#46039f"
             ],
             [
              0.2222222222222222,
              "#7201a8"
             ],
             [
              0.3333333333333333,
              "#9c179e"
             ],
             [
              0.4444444444444444,
              "#bd3786"
             ],
             [
              0.5555555555555556,
              "#d8576b"
             ],
             [
              0.6666666666666666,
              "#ed7953"
             ],
             [
              0.7777777777777778,
              "#fb9f3a"
             ],
             [
              0.8888888888888888,
              "#fdca26"
             ],
             [
              1,
              "#f0f921"
             ]
            ],
            "type": "contour"
           }
          ],
          "contourcarpet": [
           {
            "colorbar": {
             "outlinewidth": 0,
             "ticks": ""
            },
            "type": "contourcarpet"
           }
          ],
          "heatmap": [
           {
            "colorbar": {
             "outlinewidth": 0,
             "ticks": ""
            },
            "colorscale": [
             [
              0,
              "#0d0887"
             ],
             [
              0.1111111111111111,
              "#46039f"
             ],
             [
              0.2222222222222222,
              "#7201a8"
             ],
             [
              0.3333333333333333,
              "#9c179e"
             ],
             [
              0.4444444444444444,
              "#bd3786"
             ],
             [
              0.5555555555555556,
              "#d8576b"
             ],
             [
              0.6666666666666666,
              "#ed7953"
             ],
             [
              0.7777777777777778,
              "#fb9f3a"
             ],
             [
              0.8888888888888888,
              "#fdca26"
             ],
             [
              1,
              "#f0f921"
             ]
            ],
            "type": "heatmap"
           }
          ],
          "heatmapgl": [
           {
            "colorbar": {
             "outlinewidth": 0,
             "ticks": ""
            },
            "colorscale": [
             [
              0,
              "#0d0887"
             ],
             [
              0.1111111111111111,
              "#46039f"
             ],
             [
              0.2222222222222222,
              "#7201a8"
             ],
             [
              0.3333333333333333,
              "#9c179e"
             ],
             [
              0.4444444444444444,
              "#bd3786"
             ],
             [
              0.5555555555555556,
              "#d8576b"
             ],
             [
              0.6666666666666666,
              "#ed7953"
             ],
             [
              0.7777777777777778,
              "#fb9f3a"
             ],
             [
              0.8888888888888888,
              "#fdca26"
             ],
             [
              1,
              "#f0f921"
             ]
            ],
            "type": "heatmapgl"
           }
          ],
          "histogram": [
           {
            "marker": {
             "pattern": {
              "fillmode": "overlay",
              "size": 10,
              "solidity": 0.2
             }
            },
            "type": "histogram"
           }
          ],
          "histogram2d": [
           {
            "colorbar": {
             "outlinewidth": 0,
             "ticks": ""
            },
            "colorscale": [
             [
              0,
              "#0d0887"
             ],
             [
              0.1111111111111111,
              "#46039f"
             ],
             [
              0.2222222222222222,
              "#7201a8"
             ],
             [
              0.3333333333333333,
              "#9c179e"
             ],
             [
              0.4444444444444444,
              "#bd3786"
             ],
             [
              0.5555555555555556,
              "#d8576b"
             ],
             [
              0.6666666666666666,
              "#ed7953"
             ],
             [
              0.7777777777777778,
              "#fb9f3a"
             ],
             [
              0.8888888888888888,
              "#fdca26"
             ],
             [
              1,
              "#f0f921"
             ]
            ],
            "type": "histogram2d"
           }
          ],
          "histogram2dcontour": [
           {
            "colorbar": {
             "outlinewidth": 0,
             "ticks": ""
            },
            "colorscale": [
             [
              0,
              "#0d0887"
             ],
             [
              0.1111111111111111,
              "#46039f"
             ],
             [
              0.2222222222222222,
              "#7201a8"
             ],
             [
              0.3333333333333333,
              "#9c179e"
             ],
             [
              0.4444444444444444,
              "#bd3786"
             ],
             [
              0.5555555555555556,
              "#d8576b"
             ],
             [
              0.6666666666666666,
              "#ed7953"
             ],
             [
              0.7777777777777778,
              "#fb9f3a"
             ],
             [
              0.8888888888888888,
              "#fdca26"
             ],
             [
              1,
              "#f0f921"
             ]
            ],
            "type": "histogram2dcontour"
           }
          ],
          "mesh3d": [
           {
            "colorbar": {
             "outlinewidth": 0,
             "ticks": ""
            },
            "type": "mesh3d"
           }
          ],
          "parcoords": [
           {
            "line": {
             "colorbar": {
              "outlinewidth": 0,
              "ticks": ""
             }
            },
            "type": "parcoords"
           }
          ],
          "pie": [
           {
            "automargin": true,
            "type": "pie"
           }
          ],
          "scatter": [
           {
            "fillpattern": {
             "fillmode": "overlay",
             "size": 10,
             "solidity": 0.2
            },
            "type": "scatter"
           }
          ],
          "scatter3d": [
           {
            "line": {
             "colorbar": {
              "outlinewidth": 0,
              "ticks": ""
             }
            },
            "marker": {
             "colorbar": {
              "outlinewidth": 0,
              "ticks": ""
             }
            },
            "type": "scatter3d"
           }
          ],
          "scattercarpet": [
           {
            "marker": {
             "colorbar": {
              "outlinewidth": 0,
              "ticks": ""
             }
            },
            "type": "scattercarpet"
           }
          ],
          "scattergeo": [
           {
            "marker": {
             "colorbar": {
              "outlinewidth": 0,
              "ticks": ""
             }
            },
            "type": "scattergeo"
           }
          ],
          "scattergl": [
           {
            "marker": {
             "colorbar": {
              "outlinewidth": 0,
              "ticks": ""
             }
            },
            "type": "scattergl"
           }
          ],
          "scattermapbox": [
           {
            "marker": {
             "colorbar": {
              "outlinewidth": 0,
              "ticks": ""
             }
            },
            "type": "scattermapbox"
           }
          ],
          "scatterpolar": [
           {
            "marker": {
             "colorbar": {
              "outlinewidth": 0,
              "ticks": ""
             }
            },
            "type": "scatterpolar"
           }
          ],
          "scatterpolargl": [
           {
            "marker": {
             "colorbar": {
              "outlinewidth": 0,
              "ticks": ""
             }
            },
            "type": "scatterpolargl"
           }
          ],
          "scatterternary": [
           {
            "marker": {
             "colorbar": {
              "outlinewidth": 0,
              "ticks": ""
             }
            },
            "type": "scatterternary"
           }
          ],
          "surface": [
           {
            "colorbar": {
             "outlinewidth": 0,
             "ticks": ""
            },
            "colorscale": [
             [
              0,
              "#0d0887"
             ],
             [
              0.1111111111111111,
              "#46039f"
             ],
             [
              0.2222222222222222,
              "#7201a8"
             ],
             [
              0.3333333333333333,
              "#9c179e"
             ],
             [
              0.4444444444444444,
              "#bd3786"
             ],
             [
              0.5555555555555556,
              "#d8576b"
             ],
             [
              0.6666666666666666,
              "#ed7953"
             ],
             [
              0.7777777777777778,
              "#fb9f3a"
             ],
             [
              0.8888888888888888,
              "#fdca26"
             ],
             [
              1,
              "#f0f921"
             ]
            ],
            "type": "surface"
           }
          ],
          "table": [
           {
            "cells": {
             "fill": {
              "color": "#EBF0F8"
             },
             "line": {
              "color": "white"
             }
            },
            "header": {
             "fill": {
              "color": "#C8D4E3"
             },
             "line": {
              "color": "white"
             }
            },
            "type": "table"
           }
          ]
         },
         "layout": {
          "annotationdefaults": {
           "arrowcolor": "#2a3f5f",
           "arrowhead": 0,
           "arrowwidth": 1
          },
          "autotypenumbers": "strict",
          "coloraxis": {
           "colorbar": {
            "outlinewidth": 0,
            "ticks": ""
           }
          },
          "colorscale": {
           "diverging": [
            [
             0,
             "#8e0152"
            ],
            [
             0.1,
             "#c51b7d"
            ],
            [
             0.2,
             "#de77ae"
            ],
            [
             0.3,
             "#f1b6da"
            ],
            [
             0.4,
             "#fde0ef"
            ],
            [
             0.5,
             "#f7f7f7"
            ],
            [
             0.6,
             "#e6f5d0"
            ],
            [
             0.7,
             "#b8e186"
            ],
            [
             0.8,
             "#7fbc41"
            ],
            [
             0.9,
             "#4d9221"
            ],
            [
             1,
             "#276419"
            ]
           ],
           "sequential": [
            [
             0,
             "#0d0887"
            ],
            [
             0.1111111111111111,
             "#46039f"
            ],
            [
             0.2222222222222222,
             "#7201a8"
            ],
            [
             0.3333333333333333,
             "#9c179e"
            ],
            [
             0.4444444444444444,
             "#bd3786"
            ],
            [
             0.5555555555555556,
             "#d8576b"
            ],
            [
             0.6666666666666666,
             "#ed7953"
            ],
            [
             0.7777777777777778,
             "#fb9f3a"
            ],
            [
             0.8888888888888888,
             "#fdca26"
            ],
            [
             1,
             "#f0f921"
            ]
           ],
           "sequentialminus": [
            [
             0,
             "#0d0887"
            ],
            [
             0.1111111111111111,
             "#46039f"
            ],
            [
             0.2222222222222222,
             "#7201a8"
            ],
            [
             0.3333333333333333,
             "#9c179e"
            ],
            [
             0.4444444444444444,
             "#bd3786"
            ],
            [
             0.5555555555555556,
             "#d8576b"
            ],
            [
             0.6666666666666666,
             "#ed7953"
            ],
            [
             0.7777777777777778,
             "#fb9f3a"
            ],
            [
             0.8888888888888888,
             "#fdca26"
            ],
            [
             1,
             "#f0f921"
            ]
           ]
          },
          "colorway": [
           "#636efa",
           "#EF553B",
           "#00cc96",
           "#ab63fa",
           "#FFA15A",
           "#19d3f3",
           "#FF6692",
           "#B6E880",
           "#FF97FF",
           "#FECB52"
          ],
          "font": {
           "color": "#2a3f5f"
          },
          "geo": {
           "bgcolor": "white",
           "lakecolor": "white",
           "landcolor": "#E5ECF6",
           "showlakes": true,
           "showland": true,
           "subunitcolor": "white"
          },
          "hoverlabel": {
           "align": "left"
          },
          "hovermode": "closest",
          "mapbox": {
           "style": "light"
          },
          "paper_bgcolor": "white",
          "plot_bgcolor": "#E5ECF6",
          "polar": {
           "angularaxis": {
            "gridcolor": "white",
            "linecolor": "white",
            "ticks": ""
           },
           "bgcolor": "#E5ECF6",
           "radialaxis": {
            "gridcolor": "white",
            "linecolor": "white",
            "ticks": ""
           }
          },
          "scene": {
           "xaxis": {
            "backgroundcolor": "#E5ECF6",
            "gridcolor": "white",
            "gridwidth": 2,
            "linecolor": "white",
            "showbackground": true,
            "ticks": "",
            "zerolinecolor": "white"
           },
           "yaxis": {
            "backgroundcolor": "#E5ECF6",
            "gridcolor": "white",
            "gridwidth": 2,
            "linecolor": "white",
            "showbackground": true,
            "ticks": "",
            "zerolinecolor": "white"
           },
           "zaxis": {
            "backgroundcolor": "#E5ECF6",
            "gridcolor": "white",
            "gridwidth": 2,
            "linecolor": "white",
            "showbackground": true,
            "ticks": "",
            "zerolinecolor": "white"
           }
          },
          "shapedefaults": {
           "line": {
            "color": "#2a3f5f"
           }
          },
          "ternary": {
           "aaxis": {
            "gridcolor": "white",
            "linecolor": "white",
            "ticks": ""
           },
           "baxis": {
            "gridcolor": "white",
            "linecolor": "white",
            "ticks": ""
           },
           "bgcolor": "#E5ECF6",
           "caxis": {
            "gridcolor": "white",
            "linecolor": "white",
            "ticks": ""
           }
          },
          "title": {
           "x": 0.05
          },
          "xaxis": {
           "automargin": true,
           "gridcolor": "white",
           "linecolor": "white",
           "ticks": "",
           "title": {
            "standoff": 15
           },
           "zerolinecolor": "white",
           "zerolinewidth": 2
          },
          "yaxis": {
           "automargin": true,
           "gridcolor": "white",
           "linecolor": "white",
           "ticks": "",
           "title": {
            "standoff": 15
           },
           "zerolinecolor": "white",
           "zerolinewidth": 2
          }
         }
        },
        "title": {
         "text": "Top 5 destinations 04-09-2025 to 09-09-2025"
        },
        "width": 900
       }
      }
     },
     "metadata": {},
     "output_type": "display_data"
    }
   ],
   "source": [
    "import plotly.express as px\n",
    "# play with the color: continous/numerical\n",
    "#px.set_mapbox_access_token(open(\".mapbox_token\").read())\n",
    "fig = px.scatter_mapbox(top_destination_dtf, lat=\"gps_lat\", lon=\"gps_long\", color=\"weather_rank\", text='destination', \n",
    "#                         size=\"hour\",\n",
    "                        #color_continuous_scale=px.colors.cyclical.IceFire,   \n",
    "                        color_continuous_scale=\"RdYlGn_r\",                     \n",
    "                        zoom=4.5,\n",
    "                       width=900,\n",
    "                        height=600,\n",
    "                        labels={'median_temp' : 'median temperature'},\n",
    "                        title='Top 5 destinations ' + weather_forecast_start_date.strftime(\"%d-%m-%Y\") + ' to ' + weather_forecast_end_date.strftime(\"%d-%m-%Y\"))\n",
    "fig.update_traces(marker=dict(size=20))\n",
    "fig.update_layout(mapbox_style=\"open-street-map\")\n",
    "fig.show()"
   ]
  },
  {
   "cell_type": "code",
   "execution_count": null,
   "metadata": {},
   "outputs": [],
   "source": [
    "fig.write_image(\"kayak_top5destinations.png\")"
   ]
  },
  {
   "cell_type": "markdown",
   "metadata": {},
   "source": [
    "### Collect (scrap) booking hotels available for ALL destinations ###"
   ]
  },
  {
   "cell_type": "code",
   "execution_count": null,
   "metadata": {},
   "outputs": [],
   "source": [
    "hotel_scrapping_search_result_filename = 'booking_hotels.csv'\n",
    "booking_queries = list()\n",
    "checkin_date = date.today() + timedelta(days=1)\n",
    "checkout_date = checkin_date + timedelta(days=DAYS_OFFSET_MAX)\n",
    "for i in range(len(dest_coordinates_dtf)):\n",
    "    destination_query_parameters = dest_coordinates_dtf[['destination_id', 'destination']].iloc[i].to_dict()\n",
    "    destination_query_parameters.update({'destination_country':'France', 'destination_type':'city'\n",
    "                                              ,'checkin_date': checkin_date,'checkout_date':checkout_date\n",
    "                                              ,'group_adults':2, 'group_children':0 })\n",
    "    booking_queries.append(destination_query_parameters)\n",
    "\n",
    "output_file = hotelsearch.scrap(booking_queries, filename=hotel_scrapping_search_result_filename)\n",
    "print(\"Results saved to:\", output_file)\n",
    "\n",
    "df = pd.read_csv(output_file)\n",
    "df.head()"
   ]
  },
  {
   "cell_type": "markdown",
   "metadata": {},
   "source": [
    "### ALTERNATIVE - Collect (scrap) booking hotels available for the top destinations ###\n",
    "\n",
    "#### Booking.com may limit queries and search results - Limiting scraping to top 5 destinations gives more chance to retrieve full search results hotels ####"
   ]
  },
  {
   "cell_type": "code",
   "execution_count": null,
   "metadata": {},
   "outputs": [],
   "source": [
    "'''\n",
    "get top n destinations and collect destinations hotels available between checkin_date and checkout_date\n",
    "\n",
    "'''\n",
    "hotel_scrapping_search_result_filename = 'booking_hotels_top_destinations.csv'\n",
    "booking_queries = list()\n",
    "checkin_date = date.today() + timedelta(days=1)\n",
    "checkout_date = checkin_date + timedelta(days=DAYS_OFFSET_MAX)\n",
    "for i in range(len(top_destination_dtf)):\n",
    "    destination_query_parameters = top_destination_dtf[['destination_id', 'destination']].iloc[i].to_dict()\n",
    "    destination_query_parameters.update({'destination_country':'France', 'destination_type':'city'\n",
    "                                              ,'checkin_date': checkin_date,'checkout_date':checkout_date\n",
    "                                              ,'group_adults':2, 'group_children':0 })\n",
    "    booking_queries.append(destination_query_parameters)\n",
    "output_file = hotelsearch.scrap(booking_queries=booking_queries,filename=hotel_scrapping_search_result_filename)\n",
    "print(\"Results saved to:\", output_file)\n",
    "\n",
    "df = pd.read_csv(output_file)\n",
    "df.head()"
   ]
  },
  {
   "cell_type": "markdown",
   "metadata": {},
   "source": [
    "### Load booking hotels scraping output file ###"
   ]
  },
  {
   "cell_type": "code",
   "execution_count": 148,
   "metadata": {},
   "outputs": [],
   "source": [
    "hotel_scrapping_search_result_filename = 'booking_hotels.csv'\n",
    "output_file_path = hotelsearch.get_outputfile_path(hotel_scrapping_search_result_filename)\n",
    "destination_hotels_dtf = pd.read_csv(output_file_path, encoding='utf-8',sep=',')\n",
    "destination_hotels_dtf.sort_values(['destination_id', 'score'], ascending = [True, False], inplace=True)\n",
    "#destination_hotels_dtf.head(10)\n",
    "#destination_hotels_dtf.groupby('destination_id').aggregate(count=('hotel_name','count'))"
   ]
  },
  {
   "cell_type": "markdown",
   "metadata": {},
   "source": [
    "#### Select Top-20 hotels for each of top-5 destinations ####"
   ]
  },
  {
   "cell_type": "code",
   "execution_count": 149,
   "metadata": {},
   "outputs": [
    {
     "data": {
      "text/html": [
       "<div>\n",
       "<style scoped>\n",
       "    .dataframe tbody tr th:only-of-type {\n",
       "        vertical-align: middle;\n",
       "    }\n",
       "\n",
       "    .dataframe tbody tr th {\n",
       "        vertical-align: top;\n",
       "    }\n",
       "\n",
       "    .dataframe thead th {\n",
       "        text-align: right;\n",
       "    }\n",
       "</style>\n",
       "<table border=\"1\" class=\"dataframe\">\n",
       "  <thead>\n",
       "    <tr style=\"text-align: right;\">\n",
       "      <th></th>\n",
       "      <th>destination_id</th>\n",
       "      <th>hotel_name</th>\n",
       "      <th>url</th>\n",
       "      <th>gps_lat</th>\n",
       "      <th>gps_long</th>\n",
       "      <th>score</th>\n",
       "      <th>description</th>\n",
       "      <th>address</th>\n",
       "      <th>hotel_rank</th>\n",
       "    </tr>\n",
       "  </thead>\n",
       "  <tbody>\n",
       "    <tr>\n",
       "      <th>851</th>\n",
       "      <td>20</td>\n",
       "      <td>Tropézia- Standing T4 Terrasse et Parking Cassis</td>\n",
       "      <td>https://www.booking.com/hotel/fr/tropezia-stan...</td>\n",
       "      <td>43.214698</td>\n",
       "      <td>5.538341</td>\n",
       "      <td>9.7</td>\n",
       "      <td>L’hébergement Tropézia- Standing T4 Terrasse e...</td>\n",
       "      <td>7 Rue du Général Bonaparte, 13260 Cassis, France</td>\n",
       "      <td>1</td>\n",
       "    </tr>\n",
       "    <tr>\n",
       "      <th>861</th>\n",
       "      <td>20</td>\n",
       "      <td>Charmant studio au cœur de Cassis</td>\n",
       "      <td>https://www.booking.com/hotel/fr/charmant-stud...</td>\n",
       "      <td>43.215634</td>\n",
       "      <td>5.538448</td>\n",
       "      <td>9.4</td>\n",
       "      <td>L’hébergement en bord de mer Charmant studio a...</td>\n",
       "      <td>34 Rue Adolphe Thiers, 13260 Cassis, France</td>\n",
       "      <td>2</td>\n",
       "    </tr>\n",
       "    <tr>\n",
       "      <th>866</th>\n",
       "      <td>20</td>\n",
       "      <td>Au cœur de Cassis</td>\n",
       "      <td>https://www.booking.com/hotel/fr/au-coeur-de-c...</td>\n",
       "      <td>43.214959</td>\n",
       "      <td>5.539961</td>\n",
       "      <td>9.4</td>\n",
       "      <td>L’hébergement Au cœur de Cassis vous accueille...</td>\n",
       "      <td>34 Avenue Victor Hugo, 13260 Cassis, France</td>\n",
       "      <td>3</td>\n",
       "    </tr>\n",
       "    <tr>\n",
       "      <th>860</th>\n",
       "      <td>20</td>\n",
       "      <td>Appartement Centre ville Cassis</td>\n",
       "      <td>https://www.booking.com/hotel/fr/appartement-c...</td>\n",
       "      <td>43.215384</td>\n",
       "      <td>5.544588</td>\n",
       "      <td>9.3</td>\n",
       "      <td>L’hébergement Appartement Centre ville Cassis ...</td>\n",
       "      <td>4 Avenue de Provence, 13260 Cassis, France</td>\n",
       "      <td>4</td>\n",
       "    </tr>\n",
       "    <tr>\n",
       "      <th>862</th>\n",
       "      <td>20</td>\n",
       "      <td>Cassis Lodges</td>\n",
       "      <td>https://www.booking.com/hotel/fr/cassis-lodges...</td>\n",
       "      <td>43.210412</td>\n",
       "      <td>5.522897</td>\n",
       "      <td>9.2</td>\n",
       "      <td>L’établissement Cassis Lodges vous accueille à...</td>\n",
       "      <td>20bis Avenue Notre Dame, 13260 Cassis, France</td>\n",
       "      <td>5</td>\n",
       "    </tr>\n",
       "    <tr>\n",
       "      <th>475</th>\n",
       "      <td>20</td>\n",
       "      <td>Eden Cassis - Centre Ville 2 chbres - Wifi - Clim</td>\n",
       "      <td>https://www.booking.com/hotel/fr/eden-cassis-c...</td>\n",
       "      <td>43.214080</td>\n",
       "      <td>5.543129</td>\n",
       "      <td>9.0</td>\n",
       "      <td>L’hébergement Eden Cassis - Centre Ville 2 cha...</td>\n",
       "      <td>6 Avenue du Professeur René Leriche, 13260 Cas...</td>\n",
       "      <td>6</td>\n",
       "    </tr>\n",
       "    <tr>\n",
       "      <th>849</th>\n",
       "      <td>20</td>\n",
       "      <td>Indigo</td>\n",
       "      <td>https://www.booking.com/hotel/fr/bleu-indigo.f...</td>\n",
       "      <td>43.216884</td>\n",
       "      <td>5.537542</td>\n",
       "      <td>9.0</td>\n",
       "      <td>Offrant une vue sur la ville, l’hébergement In...</td>\n",
       "      <td>Résidence les Grands Pins Bt C 6 Rue Pierre Pu...</td>\n",
       "      <td>7</td>\n",
       "    </tr>\n",
       "    <tr>\n",
       "      <th>872</th>\n",
       "      <td>20</td>\n",
       "      <td>Le Perchoir de Cassis Cocoon</td>\n",
       "      <td>https://www.booking.com/hotel/fr/le-perchoir-d...</td>\n",
       "      <td>43.214689</td>\n",
       "      <td>5.539442</td>\n",
       "      <td>8.9</td>\n",
       "      <td>L’hébergement Le Perchoir de Cassis Cocoon se ...</td>\n",
       "      <td>35 Avenue Victor Hugo, 13260 Cassis, France</td>\n",
       "      <td>8</td>\n",
       "    </tr>\n",
       "    <tr>\n",
       "      <th>874</th>\n",
       "      <td>20</td>\n",
       "      <td>L'ECHO DES FLOTS vue mer</td>\n",
       "      <td>https://www.booking.com/hotel/fr/echo-des-flot...</td>\n",
       "      <td>43.211916</td>\n",
       "      <td>5.530918</td>\n",
       "      <td>8.8</td>\n",
       "      <td>Bénéficiant d’un emplacement en bord de mer, l...</td>\n",
       "      <td>3bis Avenue des Calanques résidence le Week En...</td>\n",
       "      <td>9</td>\n",
       "    </tr>\n",
       "    <tr>\n",
       "      <th>864</th>\n",
       "      <td>20</td>\n",
       "      <td>LE SEA SIDE - Ultra centre - Terrasse vue Mer ...</td>\n",
       "      <td>https://www.booking.com/hotel/fr/superbe-appar...</td>\n",
       "      <td>43.212899</td>\n",
       "      <td>5.538700</td>\n",
       "      <td>8.7</td>\n",
       "      <td>Offrant une vue sur la mer, l’hébergement LE S...</td>\n",
       "      <td>3 Place Montmorin, 13260 Cassis, France</td>\n",
       "      <td>10</td>\n",
       "    </tr>\n",
       "  </tbody>\n",
       "</table>\n",
       "</div>"
      ],
      "text/plain": [
       "     destination_id                                         hotel_name  \\\n",
       "851              20   Tropézia- Standing T4 Terrasse et Parking Cassis   \n",
       "861              20                  Charmant studio au cœur de Cassis   \n",
       "866              20                                  Au cœur de Cassis   \n",
       "860              20                    Appartement Centre ville Cassis   \n",
       "862              20                                      Cassis Lodges   \n",
       "475              20  Eden Cassis - Centre Ville 2 chbres - Wifi - Clim   \n",
       "849              20                                             Indigo   \n",
       "872              20                       Le Perchoir de Cassis Cocoon   \n",
       "874              20                           L'ECHO DES FLOTS vue mer   \n",
       "864              20  LE SEA SIDE - Ultra centre - Terrasse vue Mer ...   \n",
       "\n",
       "                                                   url    gps_lat  gps_long  \\\n",
       "851  https://www.booking.com/hotel/fr/tropezia-stan...  43.214698  5.538341   \n",
       "861  https://www.booking.com/hotel/fr/charmant-stud...  43.215634  5.538448   \n",
       "866  https://www.booking.com/hotel/fr/au-coeur-de-c...  43.214959  5.539961   \n",
       "860  https://www.booking.com/hotel/fr/appartement-c...  43.215384  5.544588   \n",
       "862  https://www.booking.com/hotel/fr/cassis-lodges...  43.210412  5.522897   \n",
       "475  https://www.booking.com/hotel/fr/eden-cassis-c...  43.214080  5.543129   \n",
       "849  https://www.booking.com/hotel/fr/bleu-indigo.f...  43.216884  5.537542   \n",
       "872  https://www.booking.com/hotel/fr/le-perchoir-d...  43.214689  5.539442   \n",
       "874  https://www.booking.com/hotel/fr/echo-des-flot...  43.211916  5.530918   \n",
       "864  https://www.booking.com/hotel/fr/superbe-appar...  43.212899  5.538700   \n",
       "\n",
       "     score                                        description  \\\n",
       "851    9.7  L’hébergement Tropézia- Standing T4 Terrasse e...   \n",
       "861    9.4  L’hébergement en bord de mer Charmant studio a...   \n",
       "866    9.4  L’hébergement Au cœur de Cassis vous accueille...   \n",
       "860    9.3  L’hébergement Appartement Centre ville Cassis ...   \n",
       "862    9.2  L’établissement Cassis Lodges vous accueille à...   \n",
       "475    9.0  L’hébergement Eden Cassis - Centre Ville 2 cha...   \n",
       "849    9.0  Offrant une vue sur la ville, l’hébergement In...   \n",
       "872    8.9  L’hébergement Le Perchoir de Cassis Cocoon se ...   \n",
       "874    8.8  Bénéficiant d’un emplacement en bord de mer, l...   \n",
       "864    8.7  Offrant une vue sur la mer, l’hébergement LE S...   \n",
       "\n",
       "                                               address  hotel_rank  \n",
       "851   7 Rue du Général Bonaparte, 13260 Cassis, France           1  \n",
       "861        34 Rue Adolphe Thiers, 13260 Cassis, France           2  \n",
       "866        34 Avenue Victor Hugo, 13260 Cassis, France           3  \n",
       "860         4 Avenue de Provence, 13260 Cassis, France           4  \n",
       "862      20bis Avenue Notre Dame, 13260 Cassis, France           5  \n",
       "475  6 Avenue du Professeur René Leriche, 13260 Cas...           6  \n",
       "849  Résidence les Grands Pins Bt C 6 Rue Pierre Pu...           7  \n",
       "872        35 Avenue Victor Hugo, 13260 Cassis, France           8  \n",
       "874  3bis Avenue des Calanques résidence le Week En...           9  \n",
       "864            3 Place Montmorin, 13260 Cassis, France          10  "
      ]
     },
     "execution_count": 149,
     "metadata": {},
     "output_type": "execute_result"
    }
   ],
   "source": [
    "top_hotels_dtf  = destination_hotels_dtf[destination_hotels_dtf['destination_id'].isin(top_destination_dtf['destination_id'].unique())].copy()\n",
    "top_hotels_dtf.fillna({'score':0}, inplace=True)\n",
    "top_hotels_dtf['hotel_rank'] = top_hotels_dtf.groupby('destination_id')['score'].rank(method='first',ascending=False).astype(int)\n",
    "top_hotels_dtf[(top_hotels_dtf['hotel_rank'] <= 20 )]\n",
    "top_hotels_dtf.head(10)\n",
    "#top_hotels_dtf.groupby('destination_id').aggregate(count=('hotel_name','count'))"
   ]
  },
  {
   "cell_type": "code",
   "execution_count": 150,
   "metadata": {},
   "outputs": [
    {
     "data": {
      "application/vnd.plotly.v1+json": {
       "config": {
        "plotlyServerURL": "https://plot.ly"
       },
       "data": [
        {
         "hovertemplate": "hotel_name=%{text}<br>gps_lat=%{lat}<br>gps_long=%{lon}<br>hotel score=%{marker.color}<extra></extra>",
         "lat": [
          43.2146978,
          43.215634,
          43.2149587,
          43.2153841,
          43.210412049315,
          43.2140797,
          43.2168842,
          43.2146895,
          43.211915898805,
          43.2128992,
          43.215602,
          43.211715575402,
          43.2145264,
          43.214944301354,
          43.215028447566,
          43.21522996680949,
          43.21457326278473,
          43.214618289428,
          43.21622493056339,
          43.214538421739,
          43.2296672,
          43.2149587,
          43.2153123,
          43.21370621383696,
          43.213652073153,
          43.2505303,
          43.2818572,
          43.2889063,
          43.254039,
          43.2977253,
          43.29858166724716,
          43.3101149,
          43.300201045042,
          43.2933393,
          43.30046625144968,
          43.301501651773,
          43.312771,
          43.29554688142727,
          43.2912272,
          43.296495,
          43.25480976136343,
          43.29105669794978,
          43.309721767182005,
          43.3113494,
          43.299406222004926,
          43.2907456353764,
          43.27456537014636,
          43.304919754230845,
          43.3018082,
          43.2915873,
          43.5219847,
          43.52490233162744,
          43.5259636447689,
          43.51886697166336,
          43.52356201318332,
          43.53126359885809,
          43.5262404754953,
          43.5310473,
          43.5205148,
          43.528614,
          43.5475057,
          43.52391013965681,
          43.52803110430644,
          43.543430044663,
          43.511693394135165,
          43.5305061,
          43.525240781127486,
          43.51371445304431,
          43.51275995423972,
          43.51184317656893,
          43.52854450349286,
          43.5305061,
          43.5111713,
          43.52724,
          43.54124585231271,
          43.843058,
          43.83866612768399,
          43.829170655751,
          43.84345325137813,
          43.8389359,
          43.830681608788,
          43.8338735348897,
          43.85125652392709,
          43.8410691,
          43.834061872209,
          43.7646229,
          43.78858215364223,
          43.81470734512981,
          43.8329823,
          43.821585485623,
          43.764496,
          43.8412667,
          43.766217,
          43.83612815477216,
          43.766217,
          43.8386349,
          43.823489,
          43.7649589,
          43.8693182,
          43.8397561,
          42.5235666,
          42.52439,
          42.52534777273077,
          42.52389238080244,
          42.5287646672607,
          42.528268541492,
          42.5261673320343,
          42.5286725,
          42.52651148406712,
          42.5273147,
          42.5261183,
          42.5232494,
          42.522222703113,
          42.5231175442504,
          42.5231333,
          42.52505,
          42.522711,
          42.520940053768,
          42.52505,
          42.525106327083726,
          42.5209807,
          42.52371617082933,
          42.5236426,
          42.521956204158,
          42.5225347
         ],
         "legendgroup": "",
         "lon": [
          5.5383415,
          5.5384481,
          5.5399611,
          5.5445883,
          5.522897403123,
          5.5431287000000005,
          5.5375423,
          5.5394424,
          5.530917756603,
          5.5387002,
          5.5377111,
          5.542335019574,
          5.5382515,
          5.536067028242,
          5.53807378158,
          5.533696934580803,
          5.540146976709366,
          5.537900277659,
          5.542900264263153,
          5.53372930318,
          5.550756299999989,
          5.5399611,
          5.5420984,
          5.538958087563515,
          5.539872630688,
          5.3814817,
          5.3965484,
          5.358027499999999,
          5.4176835,
          5.3694179,
          5.36974623799324,
          5.3703396,
          5.38260245,
          5.3765135,
          5.374441573016384,
          5.370663509262,
          5.367682,
          5.374745875597,
          5.3760922,
          5.37424379999993,
          5.381653904914856,
          5.404340028762817,
          5.367034441568762,
          5.371730299999967,
          5.372724160552025,
          5.418571829795837,
          5.393511426914188,
          5.367890149354935,
          5.3794349,
          5.3683261,
          5.4536962,
          5.450541079044342,
          5.45189138710248,
          5.44161468744278,
          5.445937067270279,
          5.445070043206215,
          5.438204929232597,
          5.4495993,
          5.4471929,
          5.426005,
          5.3873295,
          5.442494451999664,
          5.434359312057495,
          5.397469569312,
          5.456986427307129,
          5.450253,
          5.441266000270844,
          5.470212399959564,
          5.461117029190064,
          5.486706644296646,
          5.426012277603149,
          5.450253,
          5.4446805,
          5.404795,
          5.372958183288574,
          4.3582177,
          4.352767914533615,
          4.35692072209,
          4.334014696859945,
          4.3763998,
          4.358587887172,
          4.361433959524561,
          4.300739765167236,
          4.3535352,
          4.358990652779,
          4.360898,
          4.35380257666111,
          4.344832599163055,
          4.3548872,
          4.364597797393799,
          4.363017,
          4.3668308,
          4.360082,
          4.361269945351637,
          4.360082,
          4.3734218,
          4.338147,
          4.3635126,
          4.2823101,
          4.36662,
          3.087087742328,
          3.082726,
          3.0903244632682725,
          3.08739067301633,
          3.078654259443283,
          3.07845963412047,
          3.082355707883835,
          3.0772025,
          3.076545618327007,
          3.0763881,
          3.0799531,
          3.0845855,
          3.085725856869,
          3.08542529814758,
          3.0855761,
          3.0831554,
          3.087451,
          3.073428166132,
          3.0831554,
          3.0904361978173256,
          3.0872957,
          3.08713473379612,
          3.0827283,
          3.08830475,
          3.0785528
         ],
         "marker": {
          "color": [
           9.7,
           9.4,
           9.4,
           9.3,
           9.2,
           9,
           9,
           8.9,
           8.8,
           8.7,
           8.7,
           8.6,
           8.6,
           8.6,
           8.5,
           8.4,
           8.4,
           8.3,
           8.3,
           8.1,
           8.1,
           8.1,
           8,
           7.8,
           7.7,
           9.5,
           9.4,
           9.1,
           8.7,
           8.7,
           8.6,
           8.5,
           8.4,
           8.4,
           8.4,
           8.4,
           8.3,
           8.3,
           8.2,
           8.1,
           8,
           7.8,
           7.8,
           7.5,
           7.1,
           7.1,
           7,
           7,
           2.1,
           0,
           9.8,
           9.1,
           9,
           8.8,
           8.7,
           8.6,
           8.4,
           8.3,
           8.3,
           8.2,
           8.1,
           8.1,
           8,
           7.9,
           7.8,
           7.8,
           7.8,
           7.7,
           7.7,
           7.7,
           7.3,
           7.3,
           7.3,
           7.3,
           7,
           9.5,
           9.2,
           9.1,
           9.1,
           9,
           8.8,
           8.8,
           8.7,
           8.5,
           8.5,
           8.3,
           8.2,
           7.8,
           7.8,
           7.7,
           7.6,
           7.6,
           7.2,
           6.8,
           6.8,
           5.8,
           4.6,
           3,
           0,
           0,
           9.4,
           9.3,
           9.2,
           9.1,
           9,
           9,
           8.9,
           8.9,
           8.6,
           8.5,
           8.5,
           8.4,
           8.4,
           8.4,
           8.4,
           8.2,
           8,
           7.9,
           7.9,
           7.9,
           7.7,
           7.5,
           0,
           0,
           0
          ],
          "coloraxis": "coloraxis",
          "size": 20
         },
         "mode": "markers+text",
         "name": "",
         "showlegend": false,
         "subplot": "mapbox",
         "text": [
          "Tropézia- Standing T4 Terrasse et Parking Cassis",
          "Charmant studio au cœur de Cassis",
          "Au cœur de Cassis",
          "Appartement Centre ville Cassis",
          "Cassis Lodges",
          "Eden Cassis - Centre Ville 2 chbres - Wifi - Clim",
          "Indigo",
          "Le Perchoir de Cassis Cocoon",
          "L'ECHO DES FLOTS vue mer",
          "LE SEA SIDE - Ultra centre - Terrasse vue Mer - 4 personnes",
          "Le Clocher de Cassis",
          "Le Canaillou par Dodo-a-Cassis",
          "LE RAVISSANT - 50m du Port - très calme",
          "Le Saint Clair par Dodo-a-Cassis",
          "LE PECHEUR DE CASSIS",
          "Best Western Plus Hôtel la Rade",
          "Best Western Hotel & SPA Coeur De Cassis",
          "CALANQUE DE MORGIOU",
          "Royal Cottage",
          "Le Cap",
          "Villavos- La Vassal",
          "CHEZ FIFI - studio 28m2 - hyper centre - wifi",
          "SUNSET GARDEN - Roof Top 45 m2 Vue Mer / Cap Canaille",
          "The Originals Boutique, Hôtel Cassitel, Cassis",
          "L' ABRI-CÔTIER",
          "Entre Plages et Jardins",
          "Le Central Parc - T2-Spacieux-Clim-Wifi",
          "L'Horizon - 3 ch climatisé avec vue mer incroyable",
          "Apt proche des Calanques",
          "Appart T2 Vieux port place Daviel",
          "InterContinental Marseille - Hotel Dieu by IHG",
          "easyHotel Marseille Euromed",
          "Marseillement votre",
          "Appartement Vieux-Port de Marseille - Opéra",
          "Staycity Aparthotels Marseille Centre Vieux Port",
          "The Babel Community - République - Joliette",
          "Odalys City Marseille Centre Euromed",
          "Escale Oceania Marseille Vieux Port",
          "ADIRA Marseille Montgrand 2 Etoiles",
          "NOCNOC - Le Republique",
          "Hôtel Villa Massalia",
          "Aparthotel Adagio Marseille Timone",
          "Golden Tulip Marseille Euromed",
          "B&B HOTEL Marseille Euromed",
          "B&B HOTEL Marseille Centre Vieux Port",
          "City Résidence Marseille",
          "B&B HOTEL Marseille Parc Chanot",
          "B&B HOTEL Marseille Centre La Joliette",
          "Hôtel Le Capitol",
          "Appartement cosy proche Vieux port",
          "T3 Centre ville Aix-en-Provence",
          "Bed and Breakfast Jardin de Marie",
          "APPART AIX MAZARIN",
          "Le Pigonnet - Esprit de France",
          "Hôtel Cézanne Boutique-Hôtel",
          "Aquabella Hôtel & Spa",
          "Renaissance Aix-en-Provence Hotel",
          "Lou Pitchoun",
          "The Originals Résidence Aix Schuman",
          "Radisson Hotel Aix En Provence",
          "Le Set Hôtel & Spa",
          "Hôtel Rotonde",
          "Best Western Le Galice Centre Ville",
          "Maison Blue Palm Aix en Provence",
          "Novotel Aix-en-Provence Pont de L'Arc",
          "Studio centre historique 2",
          "Séjours & Affaires Aix-en-Provence Mirabeau",
          "Adonis Arc Hotel Aix",
          "Escale Oceania Aix-en-Provence",
          "Comfort Aparthotel Aix Le Tholonet",
          "City Résidence Aix-en-Provence",
          "Studio centre historique 1",
          "B&B HOTEL Aix-en-Provence Pont de l'Arc",
          "Résidence Les Académies Aixoise",
          "Adonis Aix en Provence",
          "Le Belvédère Nîmois pour 2 Terrasse privée Clim MaisonCarréeConciergerie",
          "Maison Albar Hotels L’Imperator",
          "Les Trois Rois",
          "La cigale et la fourmi",
          "La Cabane nîmoise avec Clim",
          "Magnifique T2 centre ville 5 min à pieds des Arènes de Nîmes",
          "Appart'City Collection Nîmes Arènes",
          "Résidence Du Golf",
          "Le Duplex studio centre de Nîmes avec Clim",
          "Odalys City Nîmes Arènes",
          "Les Madones",
          "Hôtel Le Pré Galoffre",
          "Kyriad Nîmes Ouest A9",
          "L'écrin nîmois - clim - centre ville",
          "Appart'City Classic Nîmes",
          "Maison dans les Arbres, SPA, Tennis, Parking",
          "La MAISON D'ANTONIN",
          "Charmant studio loft - Mas Bois Fontaine",
          "Hotel Concorde",
          "Casa Côté Sud - Mas Bois Fontaine",
          "Charmant studio rénové - Proche centre ville",
          "T1bis tout confort -- wifi - clim -",
          "CHEZ BABOU studio d'artistes avec piscine, parking",
          "Agréables chambres au calme",
          "Chambre en centre ville avec jacuzzi",
          "Casa Collioura & Spa",
          "Les Suites de Collioure",
          "Les Roches Brunes",
          "Résidence Collioure Plage",
          "Le Madeloc Hôtel & Spa",
          "Appartement avec parking privatif à Collioure",
          "Hôtel La Casa Pairal",
          "Appartement Farniente",
          "Appartement T3 de standing tout équipé",
          "T2 avec Terrasse, Parking à Collioure - FR-1-309-420",
          "Appartement T3 avec WIFI et terrasse, à 300m du centre et plage de Collioure, dans résidence calme. - FR-1-309-246",
          "Le Conflent WIFI Terrace",
          "El Mayul 2' centre, plage, WiFi, au calme, clim, parking,",
          "Résidence du Soleil",
          "Ibanova Appartements",
          "Appartement T2 à Collioure avec Terrasse et Parking Privé, à 300m de la Plage - FR-1-309-385",
          "4DOM17 Appartement T2 proche plage et centre ville",
          "Collioure, le village préféré des Français",
          "Studio avec parking, terrasse ensoleillée et tennis à Collioure - FR-1-309-234",
          "Residence Pierre & Vacances Les Balcons de Collioure",
          "Studio avec Terrasse et Parking à 300m de la Plage - Résidence Privée à Collioure - FR-1-309-372",
          "Hôtel Triton",
          "Charmant appartement à Collioure avec terrasse proche plages et commerces - FR-1-309-484",
          "4PA44 appartement avec piscine et parking",
          "Appartement Collioure, 5 minutes des plages et du centre"
         ],
         "type": "scattermapbox"
        }
       ],
       "layout": {
        "coloraxis": {
         "colorbar": {
          "title": {
           "text": "hotel score"
          }
         },
         "colorscale": [
          [
           0,
           "#000000"
          ],
          [
           0.0625,
           "#001f4d"
          ],
          [
           0.125,
           "#003786"
          ],
          [
           0.1875,
           "#0e58a8"
          ],
          [
           0.25,
           "#217eb8"
          ],
          [
           0.3125,
           "#30a4ca"
          ],
          [
           0.375,
           "#54c8df"
          ],
          [
           0.4375,
           "#9be4ef"
          ],
          [
           0.5,
           "#e1e9d1"
          ],
          [
           0.5625,
           "#f3d573"
          ],
          [
           0.625,
           "#e7b000"
          ],
          [
           0.6875,
           "#da8200"
          ],
          [
           0.75,
           "#c65400"
          ],
          [
           0.8125,
           "#ac2301"
          ],
          [
           0.875,
           "#820000"
          ],
          [
           0.9375,
           "#4c0000"
          ],
          [
           1,
           "#000000"
          ]
         ]
        },
        "height": 600,
        "legend": {
         "tracegroupgap": 0
        },
        "mapbox": {
         "center": {
          "lat": 43.27559233976382,
          "lon": 4.758675856463415
         },
         "domain": {
          "x": [
           0,
           1
          ],
          "y": [
           0,
           1
          ]
         },
         "style": "open-street-map",
         "zoom": 4.5
        },
        "template": {
         "data": {
          "bar": [
           {
            "error_x": {
             "color": "#2a3f5f"
            },
            "error_y": {
             "color": "#2a3f5f"
            },
            "marker": {
             "line": {
              "color": "#E5ECF6",
              "width": 0.5
             },
             "pattern": {
              "fillmode": "overlay",
              "size": 10,
              "solidity": 0.2
             }
            },
            "type": "bar"
           }
          ],
          "barpolar": [
           {
            "marker": {
             "line": {
              "color": "#E5ECF6",
              "width": 0.5
             },
             "pattern": {
              "fillmode": "overlay",
              "size": 10,
              "solidity": 0.2
             }
            },
            "type": "barpolar"
           }
          ],
          "carpet": [
           {
            "aaxis": {
             "endlinecolor": "#2a3f5f",
             "gridcolor": "white",
             "linecolor": "white",
             "minorgridcolor": "white",
             "startlinecolor": "#2a3f5f"
            },
            "baxis": {
             "endlinecolor": "#2a3f5f",
             "gridcolor": "white",
             "linecolor": "white",
             "minorgridcolor": "white",
             "startlinecolor": "#2a3f5f"
            },
            "type": "carpet"
           }
          ],
          "choropleth": [
           {
            "colorbar": {
             "outlinewidth": 0,
             "ticks": ""
            },
            "type": "choropleth"
           }
          ],
          "contour": [
           {
            "colorbar": {
             "outlinewidth": 0,
             "ticks": ""
            },
            "colorscale": [
             [
              0,
              "#0d0887"
             ],
             [
              0.1111111111111111,
              "#46039f"
             ],
             [
              0.2222222222222222,
              "#7201a8"
             ],
             [
              0.3333333333333333,
              "#9c179e"
             ],
             [
              0.4444444444444444,
              "#bd3786"
             ],
             [
              0.5555555555555556,
              "#d8576b"
             ],
             [
              0.6666666666666666,
              "#ed7953"
             ],
             [
              0.7777777777777778,
              "#fb9f3a"
             ],
             [
              0.8888888888888888,
              "#fdca26"
             ],
             [
              1,
              "#f0f921"
             ]
            ],
            "type": "contour"
           }
          ],
          "contourcarpet": [
           {
            "colorbar": {
             "outlinewidth": 0,
             "ticks": ""
            },
            "type": "contourcarpet"
           }
          ],
          "heatmap": [
           {
            "colorbar": {
             "outlinewidth": 0,
             "ticks": ""
            },
            "colorscale": [
             [
              0,
              "#0d0887"
             ],
             [
              0.1111111111111111,
              "#46039f"
             ],
             [
              0.2222222222222222,
              "#7201a8"
             ],
             [
              0.3333333333333333,
              "#9c179e"
             ],
             [
              0.4444444444444444,
              "#bd3786"
             ],
             [
              0.5555555555555556,
              "#d8576b"
             ],
             [
              0.6666666666666666,
              "#ed7953"
             ],
             [
              0.7777777777777778,
              "#fb9f3a"
             ],
             [
              0.8888888888888888,
              "#fdca26"
             ],
             [
              1,
              "#f0f921"
             ]
            ],
            "type": "heatmap"
           }
          ],
          "heatmapgl": [
           {
            "colorbar": {
             "outlinewidth": 0,
             "ticks": ""
            },
            "colorscale": [
             [
              0,
              "#0d0887"
             ],
             [
              0.1111111111111111,
              "#46039f"
             ],
             [
              0.2222222222222222,
              "#7201a8"
             ],
             [
              0.3333333333333333,
              "#9c179e"
             ],
             [
              0.4444444444444444,
              "#bd3786"
             ],
             [
              0.5555555555555556,
              "#d8576b"
             ],
             [
              0.6666666666666666,
              "#ed7953"
             ],
             [
              0.7777777777777778,
              "#fb9f3a"
             ],
             [
              0.8888888888888888,
              "#fdca26"
             ],
             [
              1,
              "#f0f921"
             ]
            ],
            "type": "heatmapgl"
           }
          ],
          "histogram": [
           {
            "marker": {
             "pattern": {
              "fillmode": "overlay",
              "size": 10,
              "solidity": 0.2
             }
            },
            "type": "histogram"
           }
          ],
          "histogram2d": [
           {
            "colorbar": {
             "outlinewidth": 0,
             "ticks": ""
            },
            "colorscale": [
             [
              0,
              "#0d0887"
             ],
             [
              0.1111111111111111,
              "#46039f"
             ],
             [
              0.2222222222222222,
              "#7201a8"
             ],
             [
              0.3333333333333333,
              "#9c179e"
             ],
             [
              0.4444444444444444,
              "#bd3786"
             ],
             [
              0.5555555555555556,
              "#d8576b"
             ],
             [
              0.6666666666666666,
              "#ed7953"
             ],
             [
              0.7777777777777778,
              "#fb9f3a"
             ],
             [
              0.8888888888888888,
              "#fdca26"
             ],
             [
              1,
              "#f0f921"
             ]
            ],
            "type": "histogram2d"
           }
          ],
          "histogram2dcontour": [
           {
            "colorbar": {
             "outlinewidth": 0,
             "ticks": ""
            },
            "colorscale": [
             [
              0,
              "#0d0887"
             ],
             [
              0.1111111111111111,
              "#46039f"
             ],
             [
              0.2222222222222222,
              "#7201a8"
             ],
             [
              0.3333333333333333,
              "#9c179e"
             ],
             [
              0.4444444444444444,
              "#bd3786"
             ],
             [
              0.5555555555555556,
              "#d8576b"
             ],
             [
              0.6666666666666666,
              "#ed7953"
             ],
             [
              0.7777777777777778,
              "#fb9f3a"
             ],
             [
              0.8888888888888888,
              "#fdca26"
             ],
             [
              1,
              "#f0f921"
             ]
            ],
            "type": "histogram2dcontour"
           }
          ],
          "mesh3d": [
           {
            "colorbar": {
             "outlinewidth": 0,
             "ticks": ""
            },
            "type": "mesh3d"
           }
          ],
          "parcoords": [
           {
            "line": {
             "colorbar": {
              "outlinewidth": 0,
              "ticks": ""
             }
            },
            "type": "parcoords"
           }
          ],
          "pie": [
           {
            "automargin": true,
            "type": "pie"
           }
          ],
          "scatter": [
           {
            "fillpattern": {
             "fillmode": "overlay",
             "size": 10,
             "solidity": 0.2
            },
            "type": "scatter"
           }
          ],
          "scatter3d": [
           {
            "line": {
             "colorbar": {
              "outlinewidth": 0,
              "ticks": ""
             }
            },
            "marker": {
             "colorbar": {
              "outlinewidth": 0,
              "ticks": ""
             }
            },
            "type": "scatter3d"
           }
          ],
          "scattercarpet": [
           {
            "marker": {
             "colorbar": {
              "outlinewidth": 0,
              "ticks": ""
             }
            },
            "type": "scattercarpet"
           }
          ],
          "scattergeo": [
           {
            "marker": {
             "colorbar": {
              "outlinewidth": 0,
              "ticks": ""
             }
            },
            "type": "scattergeo"
           }
          ],
          "scattergl": [
           {
            "marker": {
             "colorbar": {
              "outlinewidth": 0,
              "ticks": ""
             }
            },
            "type": "scattergl"
           }
          ],
          "scattermapbox": [
           {
            "marker": {
             "colorbar": {
              "outlinewidth": 0,
              "ticks": ""
             }
            },
            "type": "scattermapbox"
           }
          ],
          "scatterpolar": [
           {
            "marker": {
             "colorbar": {
              "outlinewidth": 0,
              "ticks": ""
             }
            },
            "type": "scatterpolar"
           }
          ],
          "scatterpolargl": [
           {
            "marker": {
             "colorbar": {
              "outlinewidth": 0,
              "ticks": ""
             }
            },
            "type": "scatterpolargl"
           }
          ],
          "scatterternary": [
           {
            "marker": {
             "colorbar": {
              "outlinewidth": 0,
              "ticks": ""
             }
            },
            "type": "scatterternary"
           }
          ],
          "surface": [
           {
            "colorbar": {
             "outlinewidth": 0,
             "ticks": ""
            },
            "colorscale": [
             [
              0,
              "#0d0887"
             ],
             [
              0.1111111111111111,
              "#46039f"
             ],
             [
              0.2222222222222222,
              "#7201a8"
             ],
             [
              0.3333333333333333,
              "#9c179e"
             ],
             [
              0.4444444444444444,
              "#bd3786"
             ],
             [
              0.5555555555555556,
              "#d8576b"
             ],
             [
              0.6666666666666666,
              "#ed7953"
             ],
             [
              0.7777777777777778,
              "#fb9f3a"
             ],
             [
              0.8888888888888888,
              "#fdca26"
             ],
             [
              1,
              "#f0f921"
             ]
            ],
            "type": "surface"
           }
          ],
          "table": [
           {
            "cells": {
             "fill": {
              "color": "#EBF0F8"
             },
             "line": {
              "color": "white"
             }
            },
            "header": {
             "fill": {
              "color": "#C8D4E3"
             },
             "line": {
              "color": "white"
             }
            },
            "type": "table"
           }
          ]
         },
         "layout": {
          "annotationdefaults": {
           "arrowcolor": "#2a3f5f",
           "arrowhead": 0,
           "arrowwidth": 1
          },
          "autotypenumbers": "strict",
          "coloraxis": {
           "colorbar": {
            "outlinewidth": 0,
            "ticks": ""
           }
          },
          "colorscale": {
           "diverging": [
            [
             0,
             "#8e0152"
            ],
            [
             0.1,
             "#c51b7d"
            ],
            [
             0.2,
             "#de77ae"
            ],
            [
             0.3,
             "#f1b6da"
            ],
            [
             0.4,
             "#fde0ef"
            ],
            [
             0.5,
             "#f7f7f7"
            ],
            [
             0.6,
             "#e6f5d0"
            ],
            [
             0.7,
             "#b8e186"
            ],
            [
             0.8,
             "#7fbc41"
            ],
            [
             0.9,
             "#4d9221"
            ],
            [
             1,
             "#276419"
            ]
           ],
           "sequential": [
            [
             0,
             "#0d0887"
            ],
            [
             0.1111111111111111,
             "#46039f"
            ],
            [
             0.2222222222222222,
             "#7201a8"
            ],
            [
             0.3333333333333333,
             "#9c179e"
            ],
            [
             0.4444444444444444,
             "#bd3786"
            ],
            [
             0.5555555555555556,
             "#d8576b"
            ],
            [
             0.6666666666666666,
             "#ed7953"
            ],
            [
             0.7777777777777778,
             "#fb9f3a"
            ],
            [
             0.8888888888888888,
             "#fdca26"
            ],
            [
             1,
             "#f0f921"
            ]
           ],
           "sequentialminus": [
            [
             0,
             "#0d0887"
            ],
            [
             0.1111111111111111,
             "#46039f"
            ],
            [
             0.2222222222222222,
             "#7201a8"
            ],
            [
             0.3333333333333333,
             "#9c179e"
            ],
            [
             0.4444444444444444,
             "#bd3786"
            ],
            [
             0.5555555555555556,
             "#d8576b"
            ],
            [
             0.6666666666666666,
             "#ed7953"
            ],
            [
             0.7777777777777778,
             "#fb9f3a"
            ],
            [
             0.8888888888888888,
             "#fdca26"
            ],
            [
             1,
             "#f0f921"
            ]
           ]
          },
          "colorway": [
           "#636efa",
           "#EF553B",
           "#00cc96",
           "#ab63fa",
           "#FFA15A",
           "#19d3f3",
           "#FF6692",
           "#B6E880",
           "#FF97FF",
           "#FECB52"
          ],
          "font": {
           "color": "#2a3f5f"
          },
          "geo": {
           "bgcolor": "white",
           "lakecolor": "white",
           "landcolor": "#E5ECF6",
           "showlakes": true,
           "showland": true,
           "subunitcolor": "white"
          },
          "hoverlabel": {
           "align": "left"
          },
          "hovermode": "closest",
          "mapbox": {
           "style": "light"
          },
          "paper_bgcolor": "white",
          "plot_bgcolor": "#E5ECF6",
          "polar": {
           "angularaxis": {
            "gridcolor": "white",
            "linecolor": "white",
            "ticks": ""
           },
           "bgcolor": "#E5ECF6",
           "radialaxis": {
            "gridcolor": "white",
            "linecolor": "white",
            "ticks": ""
           }
          },
          "scene": {
           "xaxis": {
            "backgroundcolor": "#E5ECF6",
            "gridcolor": "white",
            "gridwidth": 2,
            "linecolor": "white",
            "showbackground": true,
            "ticks": "",
            "zerolinecolor": "white"
           },
           "yaxis": {
            "backgroundcolor": "#E5ECF6",
            "gridcolor": "white",
            "gridwidth": 2,
            "linecolor": "white",
            "showbackground": true,
            "ticks": "",
            "zerolinecolor": "white"
           },
           "zaxis": {
            "backgroundcolor": "#E5ECF6",
            "gridcolor": "white",
            "gridwidth": 2,
            "linecolor": "white",
            "showbackground": true,
            "ticks": "",
            "zerolinecolor": "white"
           }
          },
          "shapedefaults": {
           "line": {
            "color": "#2a3f5f"
           }
          },
          "ternary": {
           "aaxis": {
            "gridcolor": "white",
            "linecolor": "white",
            "ticks": ""
           },
           "baxis": {
            "gridcolor": "white",
            "linecolor": "white",
            "ticks": ""
           },
           "bgcolor": "#E5ECF6",
           "caxis": {
            "gridcolor": "white",
            "linecolor": "white",
            "ticks": ""
           }
          },
          "title": {
           "x": 0.05
          },
          "xaxis": {
           "automargin": true,
           "gridcolor": "white",
           "linecolor": "white",
           "ticks": "",
           "title": {
            "standoff": 15
           },
           "zerolinecolor": "white",
           "zerolinewidth": 2
          },
          "yaxis": {
           "automargin": true,
           "gridcolor": "white",
           "linecolor": "white",
           "ticks": "",
           "title": {
            "standoff": 15
           },
           "zerolinecolor": "white",
           "zerolinewidth": 2
          }
         }
        },
        "title": {
         "text": "Top hotels 04-09-2025 to 09-09-2025"
        },
        "width": 900
       }
      }
     },
     "metadata": {},
     "output_type": "display_data"
    }
   ],
   "source": [
    "# play with the color: continous/numerical\n",
    "#px.set_mapbox_access_token(open(\".mapbox_token\").read())\n",
    "fig = px.scatter_mapbox(top_hotels_dtf, lat=\"gps_lat\", lon=\"gps_long\", color=\"score\", text='hotel_name',\n",
    "#                         size=\"hour\",\n",
    "                        color_continuous_scale=px.colors.cyclical.IceFire,                        \n",
    "                        zoom=4.5,\n",
    "                       width=900,\n",
    "                        height=600,\n",
    "                        labels={'score' : 'hotel score'},\n",
    "                        title='Top hotels ' + weather_forecast_start_date.strftime(\"%d-%m-%Y\") + ' to ' + weather_forecast_end_date.strftime(\"%d-%m-%Y\"))\n",
    "fig.update_traces(marker=dict(size=20))\n",
    "fig.update_layout(mapbox_style=\"open-street-map\")\n",
    "fig.show()"
   ]
  },
  {
   "cell_type": "markdown",
   "metadata": {},
   "source": [
    "### Export csvs to S3 ###"
   ]
  },
  {
   "cell_type": "code",
   "execution_count": null,
   "metadata": {},
   "outputs": [],
   "source": [
    "session = boto3.Session()"
   ]
  },
  {
   "cell_type": "code",
   "execution_count": 152,
   "metadata": {},
   "outputs": [],
   "source": [
    "s3 = session.resource(\"s3\")"
   ]
  },
  {
   "cell_type": "code",
   "execution_count": 153,
   "metadata": {},
   "outputs": [
    {
     "name": "stdout",
     "output_type": "stream",
     "text": [
      "<class 'boto3.resources.factory.s3.Bucket'>\n"
     ]
    }
   ],
   "source": [
    "bucket = s3.Bucket(\"pfe-kayak-bucket\") \n",
    "print(type(bucket))"
   ]
  },
  {
   "cell_type": "code",
   "execution_count": 60,
   "metadata": {},
   "outputs": [],
   "source": [
    "bucket.upload_file(\"data/output/destination_gps_coordinates.csv\",\"csv/destination_gps_coordinates.csv\")"
   ]
  },
  {
   "cell_type": "code",
   "execution_count": 61,
   "metadata": {},
   "outputs": [],
   "source": [
    "bucket.upload_file(\"data/output/destination_weatherforecasts.csv\",\"csv/destination_weatherforecasts.csv\")"
   ]
  },
  {
   "cell_type": "code",
   "execution_count": 62,
   "metadata": {},
   "outputs": [],
   "source": [
    "bucket.upload_file(\"data/output/booking_hotels.csv\",\"csv/booking_hotels.csv\")"
   ]
  },
  {
   "cell_type": "code",
   "execution_count": 6,
   "metadata": {},
   "outputs": [],
   "source": [
    "bucket.upload_file(\"data/input/locations.csv\",\"csv/locations.csv\")"
   ]
  },
  {
   "cell_type": "markdown",
   "metadata": {},
   "source": [
    "### Create single dataset joining data from primary datasets (destination coordinates, destination weather forecasts, destination_weather scores, destination hotels ) ###"
   ]
  },
  {
   "cell_type": "code",
   "execution_count": 154,
   "metadata": {},
   "outputs": [
    {
     "data": {
      "text/html": [
       "<div>\n",
       "<style scoped>\n",
       "    .dataframe tbody tr th:only-of-type {\n",
       "        vertical-align: middle;\n",
       "    }\n",
       "\n",
       "    .dataframe tbody tr th {\n",
       "        vertical-align: top;\n",
       "    }\n",
       "\n",
       "    .dataframe thead th {\n",
       "        text-align: right;\n",
       "    }\n",
       "</style>\n",
       "<table border=\"1\" class=\"dataframe\">\n",
       "  <thead>\n",
       "    <tr style=\"text-align: right;\">\n",
       "      <th></th>\n",
       "      <th>destination_id</th>\n",
       "      <th>destination_key</th>\n",
       "      <th>destination</th>\n",
       "      <th>gps_long</th>\n",
       "      <th>gps_lat</th>\n",
       "      <th>dt</th>\n",
       "      <th>temp</th>\n",
       "      <th>temp_min</th>\n",
       "      <th>temp_max</th>\n",
       "      <th>pressure</th>\n",
       "      <th>humidity</th>\n",
       "      <th>weather_main</th>\n",
       "      <th>weather_descr</th>\n",
       "      <th>clouds_info_dict</th>\n",
       "      <th>pop</th>\n",
       "    </tr>\n",
       "  </thead>\n",
       "  <tbody>\n",
       "    <tr>\n",
       "      <th>0</th>\n",
       "      <td>1</td>\n",
       "      <td>Mont Saint Michel</td>\n",
       "      <td>Mont Saint-Michel</td>\n",
       "      <td>-1.507013</td>\n",
       "      <td>48.609526</td>\n",
       "      <td>2025-09-04 15:00:00</td>\n",
       "      <td>20.05</td>\n",
       "      <td>19.67</td>\n",
       "      <td>20.05</td>\n",
       "      <td>1011</td>\n",
       "      <td>58</td>\n",
       "      <td>Rain</td>\n",
       "      <td>light rain</td>\n",
       "      <td>{'all': 58}</td>\n",
       "      <td>0.2</td>\n",
       "    </tr>\n",
       "    <tr>\n",
       "      <th>1</th>\n",
       "      <td>1</td>\n",
       "      <td>Mont Saint Michel</td>\n",
       "      <td>Mont Saint-Michel</td>\n",
       "      <td>-1.507013</td>\n",
       "      <td>48.609526</td>\n",
       "      <td>2025-09-04 18:00:00</td>\n",
       "      <td>18.09</td>\n",
       "      <td>17.01</td>\n",
       "      <td>18.09</td>\n",
       "      <td>1013</td>\n",
       "      <td>69</td>\n",
       "      <td>Rain</td>\n",
       "      <td>light rain</td>\n",
       "      <td>{'all': 58}</td>\n",
       "      <td>1.0</td>\n",
       "    </tr>\n",
       "    <tr>\n",
       "      <th>2</th>\n",
       "      <td>1</td>\n",
       "      <td>Mont Saint Michel</td>\n",
       "      <td>Mont Saint-Michel</td>\n",
       "      <td>-1.507013</td>\n",
       "      <td>48.609526</td>\n",
       "      <td>2025-09-04 21:00:00</td>\n",
       "      <td>13.47</td>\n",
       "      <td>13.47</td>\n",
       "      <td>13.47</td>\n",
       "      <td>1017</td>\n",
       "      <td>89</td>\n",
       "      <td>Rain</td>\n",
       "      <td>light rain</td>\n",
       "      <td>{'all': 75}</td>\n",
       "      <td>1.0</td>\n",
       "    </tr>\n",
       "  </tbody>\n",
       "</table>\n",
       "</div>"
      ],
      "text/plain": [
       "   destination_id    destination_key        destination  gps_long    gps_lat  \\\n",
       "0               1  Mont Saint Michel  Mont Saint-Michel -1.507013  48.609526   \n",
       "1               1  Mont Saint Michel  Mont Saint-Michel -1.507013  48.609526   \n",
       "2               1  Mont Saint Michel  Mont Saint-Michel -1.507013  48.609526   \n",
       "\n",
       "                   dt   temp  temp_min  temp_max  pressure  humidity  \\\n",
       "0 2025-09-04 15:00:00  20.05     19.67     20.05      1011        58   \n",
       "1 2025-09-04 18:00:00  18.09     17.01     18.09      1013        69   \n",
       "2 2025-09-04 21:00:00  13.47     13.47     13.47      1017        89   \n",
       "\n",
       "  weather_main weather_descr clouds_info_dict  pop  \n",
       "0         Rain    light rain      {'all': 58}  0.2  \n",
       "1         Rain    light rain      {'all': 58}  1.0  \n",
       "2         Rain    light rain      {'all': 75}  1.0  "
      ]
     },
     "execution_count": 154,
     "metadata": {},
     "output_type": "execute_result"
    }
   ],
   "source": [
    "joined_dtf = pd.merge(left=dest_coordinates_dtf, right=weather_forecasts_dtf, on='destination_id', how='left')\n",
    "joined_dtf.drop(['destination_y'], axis=1, inplace=True)\n",
    "joined_dtf.rename(columns={'destination_x':'destination'}, inplace=True)\n",
    "joined_dtf.head(3)"
   ]
  },
  {
   "cell_type": "code",
   "execution_count": 155,
   "metadata": {},
   "outputs": [
    {
     "name": "stdout",
     "output_type": "stream",
     "text": [
      "{1, 2, 3, 4, 5, 6, 7, 8, 9, 10, 11, 12, 13, 14, 15, 16, 17, 18, 19, 20, 21, 22, 23, 24, 25, 26, 27, 28, 29, 30, 31, 32, 33, 34, 35}\n"
     ]
    }
   ],
   "source": [
    "intersection = set(destination_hotels_dtf['destination_id'].unique()).intersection(joined_dtf['destination_id'].unique())\n",
    "print(intersection)"
   ]
  },
  {
   "cell_type": "code",
   "execution_count": 156,
   "metadata": {},
   "outputs": [
    {
     "data": {
      "text/html": [
       "<div>\n",
       "<style scoped>\n",
       "    .dataframe tbody tr th:only-of-type {\n",
       "        vertical-align: middle;\n",
       "    }\n",
       "\n",
       "    .dataframe tbody tr th {\n",
       "        vertical-align: top;\n",
       "    }\n",
       "\n",
       "    .dataframe thead th {\n",
       "        text-align: right;\n",
       "    }\n",
       "</style>\n",
       "<table border=\"1\" class=\"dataframe\">\n",
       "  <thead>\n",
       "    <tr style=\"text-align: right;\">\n",
       "      <th></th>\n",
       "      <th>destination_id</th>\n",
       "      <th>destination_key</th>\n",
       "      <th>destination</th>\n",
       "      <th>gps_long</th>\n",
       "      <th>gps_lat</th>\n",
       "      <th>dt</th>\n",
       "      <th>temp</th>\n",
       "      <th>temp_min</th>\n",
       "      <th>temp_max</th>\n",
       "      <th>pressure</th>\n",
       "      <th>humidity</th>\n",
       "      <th>weather_main</th>\n",
       "      <th>weather_descr</th>\n",
       "      <th>clouds_info_dict</th>\n",
       "      <th>pop</th>\n",
       "      <th>weather_median_score</th>\n",
       "      <th>avg_temp</th>\n",
       "      <th>weather_rank</th>\n",
       "    </tr>\n",
       "  </thead>\n",
       "  <tbody>\n",
       "    <tr>\n",
       "      <th>0</th>\n",
       "      <td>1</td>\n",
       "      <td>Mont Saint Michel</td>\n",
       "      <td>Mont Saint-Michel</td>\n",
       "      <td>-1.507013</td>\n",
       "      <td>48.609526</td>\n",
       "      <td>2025-09-04 15:00:00</td>\n",
       "      <td>20.05</td>\n",
       "      <td>19.67</td>\n",
       "      <td>20.05</td>\n",
       "      <td>1011</td>\n",
       "      <td>58</td>\n",
       "      <td>Rain</td>\n",
       "      <td>light rain</td>\n",
       "      <td>{'all': 58}</td>\n",
       "      <td>0.2</td>\n",
       "      <td>6.0</td>\n",
       "      <td>18.166</td>\n",
       "      <td>30</td>\n",
       "    </tr>\n",
       "    <tr>\n",
       "      <th>1</th>\n",
       "      <td>1</td>\n",
       "      <td>Mont Saint Michel</td>\n",
       "      <td>Mont Saint-Michel</td>\n",
       "      <td>-1.507013</td>\n",
       "      <td>48.609526</td>\n",
       "      <td>2025-09-04 18:00:00</td>\n",
       "      <td>18.09</td>\n",
       "      <td>17.01</td>\n",
       "      <td>18.09</td>\n",
       "      <td>1013</td>\n",
       "      <td>69</td>\n",
       "      <td>Rain</td>\n",
       "      <td>light rain</td>\n",
       "      <td>{'all': 58}</td>\n",
       "      <td>1.0</td>\n",
       "      <td>6.0</td>\n",
       "      <td>18.166</td>\n",
       "      <td>30</td>\n",
       "    </tr>\n",
       "    <tr>\n",
       "      <th>2</th>\n",
       "      <td>1</td>\n",
       "      <td>Mont Saint Michel</td>\n",
       "      <td>Mont Saint-Michel</td>\n",
       "      <td>-1.507013</td>\n",
       "      <td>48.609526</td>\n",
       "      <td>2025-09-04 21:00:00</td>\n",
       "      <td>13.47</td>\n",
       "      <td>13.47</td>\n",
       "      <td>13.47</td>\n",
       "      <td>1017</td>\n",
       "      <td>89</td>\n",
       "      <td>Rain</td>\n",
       "      <td>light rain</td>\n",
       "      <td>{'all': 75}</td>\n",
       "      <td>1.0</td>\n",
       "      <td>6.0</td>\n",
       "      <td>18.166</td>\n",
       "      <td>30</td>\n",
       "    </tr>\n",
       "    <tr>\n",
       "      <th>3</th>\n",
       "      <td>1</td>\n",
       "      <td>Mont Saint Michel</td>\n",
       "      <td>Mont Saint-Michel</td>\n",
       "      <td>-1.507013</td>\n",
       "      <td>48.609526</td>\n",
       "      <td>2025-09-05 00:00:00</td>\n",
       "      <td>12.21</td>\n",
       "      <td>12.21</td>\n",
       "      <td>12.21</td>\n",
       "      <td>1018</td>\n",
       "      <td>91</td>\n",
       "      <td>Rain</td>\n",
       "      <td>light rain</td>\n",
       "      <td>{'all': 51}</td>\n",
       "      <td>1.0</td>\n",
       "      <td>6.0</td>\n",
       "      <td>18.166</td>\n",
       "      <td>30</td>\n",
       "    </tr>\n",
       "    <tr>\n",
       "      <th>4</th>\n",
       "      <td>1</td>\n",
       "      <td>Mont Saint Michel</td>\n",
       "      <td>Mont Saint-Michel</td>\n",
       "      <td>-1.507013</td>\n",
       "      <td>48.609526</td>\n",
       "      <td>2025-09-05 03:00:00</td>\n",
       "      <td>11.60</td>\n",
       "      <td>11.60</td>\n",
       "      <td>11.60</td>\n",
       "      <td>1019</td>\n",
       "      <td>92</td>\n",
       "      <td>Clouds</td>\n",
       "      <td>few clouds</td>\n",
       "      <td>{'all': 16}</td>\n",
       "      <td>0.0</td>\n",
       "      <td>6.0</td>\n",
       "      <td>18.166</td>\n",
       "      <td>30</td>\n",
       "    </tr>\n",
       "  </tbody>\n",
       "</table>\n",
       "</div>"
      ],
      "text/plain": [
       "   destination_id    destination_key        destination  gps_long    gps_lat  \\\n",
       "0               1  Mont Saint Michel  Mont Saint-Michel -1.507013  48.609526   \n",
       "1               1  Mont Saint Michel  Mont Saint-Michel -1.507013  48.609526   \n",
       "2               1  Mont Saint Michel  Mont Saint-Michel -1.507013  48.609526   \n",
       "3               1  Mont Saint Michel  Mont Saint-Michel -1.507013  48.609526   \n",
       "4               1  Mont Saint Michel  Mont Saint-Michel -1.507013  48.609526   \n",
       "\n",
       "                   dt   temp  temp_min  temp_max  pressure  humidity  \\\n",
       "0 2025-09-04 15:00:00  20.05     19.67     20.05      1011        58   \n",
       "1 2025-09-04 18:00:00  18.09     17.01     18.09      1013        69   \n",
       "2 2025-09-04 21:00:00  13.47     13.47     13.47      1017        89   \n",
       "3 2025-09-05 00:00:00  12.21     12.21     12.21      1018        91   \n",
       "4 2025-09-05 03:00:00  11.60     11.60     11.60      1019        92   \n",
       "\n",
       "  weather_main weather_descr clouds_info_dict  pop  weather_median_score  \\\n",
       "0         Rain    light rain      {'all': 58}  0.2                   6.0   \n",
       "1         Rain    light rain      {'all': 58}  1.0                   6.0   \n",
       "2         Rain    light rain      {'all': 75}  1.0                   6.0   \n",
       "3         Rain    light rain      {'all': 51}  1.0                   6.0   \n",
       "4       Clouds    few clouds      {'all': 16}  0.0                   6.0   \n",
       "\n",
       "   avg_temp  weather_rank  \n",
       "0    18.166            30  \n",
       "1    18.166            30  \n",
       "2    18.166            30  \n",
       "3    18.166            30  \n",
       "4    18.166            30  "
      ]
     },
     "execution_count": 156,
     "metadata": {},
     "output_type": "execute_result"
    }
   ],
   "source": [
    "joined_dtf = pd.merge(left=joined_dtf, right=scores_by_destination_dtf, on='destination_id', how='left')\n",
    "joined_dtf.drop(['destination_y'], axis=1, inplace=True)\n",
    "joined_dtf.rename(columns={'destination_x':'destination'}, inplace=True)\n",
    "joined_dtf.head(5)"
   ]
  },
  {
   "cell_type": "code",
   "execution_count": 157,
   "metadata": {},
   "outputs": [
    {
     "data": {
      "text/html": [
       "<div>\n",
       "<style scoped>\n",
       "    .dataframe tbody tr th:only-of-type {\n",
       "        vertical-align: middle;\n",
       "    }\n",
       "\n",
       "    .dataframe tbody tr th {\n",
       "        vertical-align: top;\n",
       "    }\n",
       "\n",
       "    .dataframe thead th {\n",
       "        text-align: right;\n",
       "    }\n",
       "</style>\n",
       "<table border=\"1\" class=\"dataframe\">\n",
       "  <thead>\n",
       "    <tr style=\"text-align: right;\">\n",
       "      <th></th>\n",
       "      <th>target_dest_id</th>\n",
       "      <th>target_dest_key</th>\n",
       "      <th>target_dest</th>\n",
       "      <th>target_dest_lon</th>\n",
       "      <th>target_dest_lat</th>\n",
       "      <th>dt</th>\n",
       "      <th>temp</th>\n",
       "      <th>temp_min</th>\n",
       "      <th>temp_max</th>\n",
       "      <th>pressure</th>\n",
       "      <th>...</th>\n",
       "      <th>weather_median_score</th>\n",
       "      <th>avg_temp</th>\n",
       "      <th>weather_rank</th>\n",
       "      <th>hotel_name</th>\n",
       "      <th>hotel_url</th>\n",
       "      <th>hotel_lat</th>\n",
       "      <th>hotel_lon</th>\n",
       "      <th>hotel_score</th>\n",
       "      <th>hotel_descr</th>\n",
       "      <th>hotel_address</th>\n",
       "    </tr>\n",
       "  </thead>\n",
       "  <tbody>\n",
       "    <tr>\n",
       "      <th>0</th>\n",
       "      <td>1</td>\n",
       "      <td>Mont Saint Michel</td>\n",
       "      <td>Mont Saint-Michel</td>\n",
       "      <td>-1.507013</td>\n",
       "      <td>48.609526</td>\n",
       "      <td>2025-09-04 15:00:00</td>\n",
       "      <td>20.05</td>\n",
       "      <td>19.67</td>\n",
       "      <td>20.05</td>\n",
       "      <td>1011</td>\n",
       "      <td>...</td>\n",
       "      <td>6.0</td>\n",
       "      <td>18.166</td>\n",
       "      <td>30</td>\n",
       "      <td>Chez Stéphanie et Matthias !</td>\n",
       "      <td>https://www.booking.com/hotel/fr/chez-stephani...</td>\n",
       "      <td>48.599615</td>\n",
       "      <td>-1.421002</td>\n",
       "      <td>10.0</td>\n",
       "      <td>Situé à Servon, l’hébergement Chez Stéphanie e...</td>\n",
       "      <td>18 Rue du Pont Morin, 50170 Servon, France</td>\n",
       "    </tr>\n",
       "    <tr>\n",
       "      <th>1</th>\n",
       "      <td>1</td>\n",
       "      <td>Mont Saint Michel</td>\n",
       "      <td>Mont Saint-Michel</td>\n",
       "      <td>-1.507013</td>\n",
       "      <td>48.609526</td>\n",
       "      <td>2025-09-04 15:00:00</td>\n",
       "      <td>20.05</td>\n",
       "      <td>19.67</td>\n",
       "      <td>20.05</td>\n",
       "      <td>1011</td>\n",
       "      <td>...</td>\n",
       "      <td>6.0</td>\n",
       "      <td>18.166</td>\n",
       "      <td>30</td>\n",
       "      <td>Au Mont Chez Nous Jaccuzi et Sauna</td>\n",
       "      <td>https://www.booking.com/hotel/fr/26-route-de-l...</td>\n",
       "      <td>48.613455</td>\n",
       "      <td>-1.485872</td>\n",
       "      <td>9.5</td>\n",
       "      <td>Proposant un salon commun, l’hébergement Au Mo...</td>\n",
       "      <td>26 Route de la Rive Ardevon, 50170 Pontorson, ...</td>\n",
       "    </tr>\n",
       "  </tbody>\n",
       "</table>\n",
       "<p>2 rows × 25 columns</p>\n",
       "</div>"
      ],
      "text/plain": [
       "   target_dest_id    target_dest_key        target_dest  target_dest_lon  \\\n",
       "0               1  Mont Saint Michel  Mont Saint-Michel        -1.507013   \n",
       "1               1  Mont Saint Michel  Mont Saint-Michel        -1.507013   \n",
       "\n",
       "   target_dest_lat                  dt   temp  temp_min  temp_max  pressure  \\\n",
       "0        48.609526 2025-09-04 15:00:00  20.05     19.67     20.05      1011   \n",
       "1        48.609526 2025-09-04 15:00:00  20.05     19.67     20.05      1011   \n",
       "\n",
       "   ...  weather_median_score avg_temp weather_rank  \\\n",
       "0  ...                   6.0   18.166           30   \n",
       "1  ...                   6.0   18.166           30   \n",
       "\n",
       "                           hotel_name  \\\n",
       "0        Chez Stéphanie et Matthias !   \n",
       "1  Au Mont Chez Nous Jaccuzi et Sauna   \n",
       "\n",
       "                                           hotel_url  hotel_lat  hotel_lon  \\\n",
       "0  https://www.booking.com/hotel/fr/chez-stephani...  48.599615  -1.421002   \n",
       "1  https://www.booking.com/hotel/fr/26-route-de-l...  48.613455  -1.485872   \n",
       "\n",
       "   hotel_score                                        hotel_descr  \\\n",
       "0         10.0  Situé à Servon, l’hébergement Chez Stéphanie e...   \n",
       "1          9.5  Proposant un salon commun, l’hébergement Au Mo...   \n",
       "\n",
       "                                       hotel_address  \n",
       "0         18 Rue du Pont Morin, 50170 Servon, France  \n",
       "1  26 Route de la Rive Ardevon, 50170 Pontorson, ...  \n",
       "\n",
       "[2 rows x 25 columns]"
      ]
     },
     "execution_count": 157,
     "metadata": {},
     "output_type": "execute_result"
    }
   ],
   "source": [
    "joined_dtf = pd.merge(left=joined_dtf, right=destination_hotels_dtf, on='destination_id', how='left')\n",
    "joined_dtf.rename(columns={'destination_id':'target_dest_id', 'destination_key':'target_dest_key', 'destination':'target_dest','gps_long_x':'target_dest_lon', 'gps_lat_x':'target_dest_lat'}, inplace=True)\n",
    "joined_dtf.rename(columns={'url':'hotel_url', 'gps_lat_y':'hotel_lat', 'gps_long_y':'hotel_lon','score':'hotel_score', 'description':'hotel_descr', 'address':'hotel_address'}, inplace=True)\n",
    "joined_dtf.head(2)"
   ]
  },
  {
   "cell_type": "code",
   "execution_count": 159,
   "metadata": {},
   "outputs": [],
   "source": [
    "# save dataset as csv\n",
    "output_file_path = 'data/output/booking-hotels_weatherforecasts.csv'\n",
    "remove_file_if_exists(output_file_path)\n",
    "joined_dtf.to_csv(output_file_path, encoding='utf-8',sep=',',index = False)"
   ]
  },
  {
   "cell_type": "code",
   "execution_count": 160,
   "metadata": {},
   "outputs": [],
   "source": [
    "bucket.upload_file(output_file_path,\"csv/booking-hotels_weatherforecasts.csv\")"
   ]
  },
  {
   "cell_type": "markdown",
   "metadata": {},
   "source": [
    "### Once Posgresql Database created in Amazon RDS (kayak databse) - transfert data to RDS database ###"
   ]
  },
  {
   "cell_type": "code",
   "execution_count": null,
   "metadata": {},
   "outputs": [],
   "source": [
    "bucket = s3.Bucket(\"pfe-kayak-bucket\") \n",
    "objs = list(bucket.objects.filter(Prefix='csv'))\n",
    "for obj in objs:\n",
    "    #print(obj.key)\n",
    "    out_name = obj.key.split('/')[-1]\n",
    "    print(obj.key)\n",
    "\n",
    "bucket.download_file('csv/booking-hotels_weatherforecasts.csv', 'data/output/s3_booking-hotels_weatherforecasts.csv') \n",
    " "
   ]
  },
  {
   "cell_type": "code",
   "execution_count": 164,
   "metadata": {},
   "outputs": [
    {
     "data": {
      "text/html": [
       "<div>\n",
       "<style scoped>\n",
       "    .dataframe tbody tr th:only-of-type {\n",
       "        vertical-align: middle;\n",
       "    }\n",
       "\n",
       "    .dataframe tbody tr th {\n",
       "        vertical-align: top;\n",
       "    }\n",
       "\n",
       "    .dataframe thead th {\n",
       "        text-align: right;\n",
       "    }\n",
       "</style>\n",
       "<table border=\"1\" class=\"dataframe\">\n",
       "  <thead>\n",
       "    <tr style=\"text-align: right;\">\n",
       "      <th></th>\n",
       "      <th>target_dest_id</th>\n",
       "      <th>target_dest_key</th>\n",
       "      <th>target_dest</th>\n",
       "      <th>target_dest_lon</th>\n",
       "      <th>target_dest_lat</th>\n",
       "      <th>dt</th>\n",
       "      <th>temp</th>\n",
       "      <th>temp_min</th>\n",
       "      <th>temp_max</th>\n",
       "      <th>pressure</th>\n",
       "      <th>...</th>\n",
       "      <th>weather_median_score</th>\n",
       "      <th>avg_temp</th>\n",
       "      <th>weather_rank</th>\n",
       "      <th>hotel_name</th>\n",
       "      <th>hotel_url</th>\n",
       "      <th>hotel_lat</th>\n",
       "      <th>hotel_lon</th>\n",
       "      <th>hotel_score</th>\n",
       "      <th>hotel_descr</th>\n",
       "      <th>hotel_address</th>\n",
       "    </tr>\n",
       "  </thead>\n",
       "  <tbody>\n",
       "    <tr>\n",
       "      <th>21000</th>\n",
       "      <td>22</td>\n",
       "      <td>Aix en Provence</td>\n",
       "      <td>Aix-en-Provence</td>\n",
       "      <td>5.447474</td>\n",
       "      <td>43.529842</td>\n",
       "      <td>2025-09-04 15:00:00</td>\n",
       "      <td>26.1</td>\n",
       "      <td>24.9</td>\n",
       "      <td>26.1</td>\n",
       "      <td>1015</td>\n",
       "      <td>...</td>\n",
       "      <td>6.0</td>\n",
       "      <td>23.56375</td>\n",
       "      <td>1</td>\n",
       "      <td>T3 Centre ville Aix-en-Provence</td>\n",
       "      <td>https://www.booking.com/hotel/fr/t3-centre-vil...</td>\n",
       "      <td>43.521985</td>\n",
       "      <td>5.453696</td>\n",
       "      <td>9.8</td>\n",
       "      <td>L’hébergement T3 Centre ville Aix-en-Provence ...</td>\n",
       "      <td>Bat D 1er etage 29 Avenue Saint-Jérôme, 13100 ...</td>\n",
       "    </tr>\n",
       "    <tr>\n",
       "      <th>21025</th>\n",
       "      <td>22</td>\n",
       "      <td>Aix en Provence</td>\n",
       "      <td>Aix-en-Provence</td>\n",
       "      <td>5.447474</td>\n",
       "      <td>43.529842</td>\n",
       "      <td>2025-09-04 18:00:00</td>\n",
       "      <td>23.9</td>\n",
       "      <td>22.5</td>\n",
       "      <td>23.9</td>\n",
       "      <td>1016</td>\n",
       "      <td>...</td>\n",
       "      <td>6.0</td>\n",
       "      <td>23.56375</td>\n",
       "      <td>1</td>\n",
       "      <td>T3 Centre ville Aix-en-Provence</td>\n",
       "      <td>https://www.booking.com/hotel/fr/t3-centre-vil...</td>\n",
       "      <td>43.521985</td>\n",
       "      <td>5.453696</td>\n",
       "      <td>9.8</td>\n",
       "      <td>L’hébergement T3 Centre ville Aix-en-Provence ...</td>\n",
       "      <td>Bat D 1er etage 29 Avenue Saint-Jérôme, 13100 ...</td>\n",
       "    </tr>\n",
       "  </tbody>\n",
       "</table>\n",
       "<p>2 rows × 25 columns</p>\n",
       "</div>"
      ],
      "text/plain": [
       "       target_dest_id  target_dest_key      target_dest  target_dest_lon  \\\n",
       "21000              22  Aix en Provence  Aix-en-Provence         5.447474   \n",
       "21025              22  Aix en Provence  Aix-en-Provence         5.447474   \n",
       "\n",
       "       target_dest_lat                   dt  temp  temp_min  temp_max  \\\n",
       "21000        43.529842  2025-09-04 15:00:00  26.1      24.9      26.1   \n",
       "21025        43.529842  2025-09-04 18:00:00  23.9      22.5      23.9   \n",
       "\n",
       "       pressure  ...  weather_median_score  avg_temp weather_rank  \\\n",
       "21000      1015  ...                   6.0  23.56375            1   \n",
       "21025      1016  ...                   6.0  23.56375            1   \n",
       "\n",
       "                            hotel_name  \\\n",
       "21000  T3 Centre ville Aix-en-Provence   \n",
       "21025  T3 Centre ville Aix-en-Provence   \n",
       "\n",
       "                                               hotel_url  hotel_lat  \\\n",
       "21000  https://www.booking.com/hotel/fr/t3-centre-vil...  43.521985   \n",
       "21025  https://www.booking.com/hotel/fr/t3-centre-vil...  43.521985   \n",
       "\n",
       "       hotel_lon  hotel_score  \\\n",
       "21000   5.453696          9.8   \n",
       "21025   5.453696          9.8   \n",
       "\n",
       "                                             hotel_descr  \\\n",
       "21000  L’hébergement T3 Centre ville Aix-en-Provence ...   \n",
       "21025  L’hébergement T3 Centre ville Aix-en-Provence ...   \n",
       "\n",
       "                                           hotel_address  \n",
       "21000  Bat D 1er etage 29 Avenue Saint-Jérôme, 13100 ...  \n",
       "21025  Bat D 1er etage 29 Avenue Saint-Jérôme, 13100 ...  \n",
       "\n",
       "[2 rows x 25 columns]"
      ]
     },
     "execution_count": 164,
     "metadata": {},
     "output_type": "execute_result"
    }
   ],
   "source": [
    "input_file_path = 'data/output/s3_booking-hotels_weatherforecasts.csv'\n",
    "s3_booking_hotels_weatherforecasts_dtf = pd.read_csv(input_file_path, encoding='utf-8',sep=',')\n",
    "s3_booking_hotels_weatherforecasts_dtf.sort_values(['weather_rank', 'hotel_score'], ascending = [True, False], inplace=True)\n",
    "s3_booking_hotels_weatherforecasts_dtf.head(2)"
   ]
  },
  {
   "cell_type": "code",
   "execution_count": 165,
   "metadata": {},
   "outputs": [
    {
     "data": {
      "text/plain": [
       "target_dest_id            int64\n",
       "target_dest_key          object\n",
       "target_dest              object\n",
       "target_dest_lon         float64\n",
       "target_dest_lat         float64\n",
       "dt                       object\n",
       "temp                    float64\n",
       "temp_min                float64\n",
       "temp_max                float64\n",
       "pressure                  int64\n",
       "humidity                  int64\n",
       "weather_main             object\n",
       "weather_descr            object\n",
       "clouds_info_dict         object\n",
       "pop                     float64\n",
       "weather_median_score    float64\n",
       "avg_temp                float64\n",
       "weather_rank              int64\n",
       "hotel_name               object\n",
       "hotel_url                object\n",
       "hotel_lat               float64\n",
       "hotel_lon               float64\n",
       "hotel_score             float64\n",
       "hotel_descr              object\n",
       "hotel_address            object\n",
       "dtype: object"
      ]
     },
     "execution_count": 165,
     "metadata": {},
     "output_type": "execute_result"
    }
   ],
   "source": [
    "s3_booking_hotels_weatherforecasts_dtf.dtypes"
   ]
  },
  {
   "cell_type": "code",
   "execution_count": null,
   "metadata": {},
   "outputs": [],
   "source": [
    "from sqlalchemy import create_engine, text\n",
    "\n",
    "# Make sure psycopg2-binary is installed on the kernel / anaconda environment pip install psycopg2-binary\n",
    "engine = create_engine(os.getenv(\"RDS_KAYAK_POSTGRESQL_URI\"), echo=True)"
   ]
  },
  {
   "cell_type": "code",
   "execution_count": null,
   "metadata": {},
   "outputs": [],
   "source": [
    "from sqlalchemy.ext.declarative import declarative_base\n",
    "Base = declarative_base()\n",
    "\n",
    "from sqlalchemy import Column, Integer, String, Float, Sequence, DateTime\n",
    "\n",
    "class HotelWeatherForecasts(Base):\n",
    "    __tablename__ = \"booking_hotels_weatherforecasts\"\n",
    "\n",
    "    # Each field corresponds to a column in our DB table\n",
    "    id = Column(Integer, Sequence('seq_hotels_weatherforecats_id', start=1, increment=1),primary_key=True)\n",
    "    target_dest_id = Column(Integer)\n",
    "    target_dest_key = Column(String)\n",
    "    target_dest = Column(String)\n",
    "    target_dest_lon  = Column(Float)\n",
    "    target_dest_lat  = Column(Float)\n",
    "    dt = Column(DateTime(timezone=True))\n",
    "    temp = Column(Float)\n",
    "    temp_min = Column(Float) \n",
    "    temp_max = Column(Float)\n",
    "    pressure = Column(Integer)\n",
    "    humidity = Column(Integer)\n",
    "    weather_main = Column(String)\n",
    "    weather_descr = Column(String)\n",
    "    clouds_info_dict = Column(String)\n",
    "    pop  = Column(Float)\n",
    "    weather_median_score  = Column(Float)\n",
    "    avg_temp  = Column(Float)\n",
    "    weather_rank = Column(Integer)\n",
    "    hotel_name  = Column(String)\n",
    "    hotel_url  = Column(String)\n",
    "    hotel_lat = Column(Float)\n",
    "    hotel_lon = Column(Float)\n",
    "    hotel_score  = Column(Float)\n",
    "    hotel_descr  = Column(String)\n",
    "    hotel_address = Column(String)\n",
    "\n",
    "    def __repr__(self):\n",
    "        return \"<HotelWeatherForecasts(hotel weather forecast at ='{}', hotel name='{}', location='{}')>\".format(self.dt, self.hotel_name, self.target_dest)\n",
    "\n",
    "HotelWeatherForecasts.__table__.drop(engine,checkfirst=True)\n",
    "Base.metadata.create_all(engine)"
   ]
  },
  {
   "cell_type": "markdown",
   "metadata": {},
   "source": [
    "#### First truncate table ####"
   ]
  },
  {
   "cell_type": "code",
   "execution_count": 79,
   "metadata": {},
   "outputs": [
    {
     "name": "stdout",
     "output_type": "stream",
     "text": [
      "2025-09-05 15:44:39,271 INFO sqlalchemy.engine.Engine BEGIN (implicit)\n"
     ]
    },
    {
     "name": "stderr",
     "output_type": "stream",
     "text": [
      "2025-09-05 15:44:39 [sqlalchemy.engine.Engine] INFO: BEGIN (implicit)\n"
     ]
    },
    {
     "name": "stdout",
     "output_type": "stream",
     "text": [
      "2025-09-05 15:44:39,276 INFO sqlalchemy.engine.Engine TRUNCATE TABLE booking_hotels_weatherforecasts RESTART IDENTITY CASCADE\n"
     ]
    },
    {
     "name": "stderr",
     "output_type": "stream",
     "text": [
      "2025-09-05 15:44:39 [sqlalchemy.engine.Engine] INFO: TRUNCATE TABLE booking_hotels_weatherforecasts RESTART IDENTITY CASCADE\n"
     ]
    },
    {
     "name": "stdout",
     "output_type": "stream",
     "text": [
      "2025-09-05 15:44:39,279 INFO sqlalchemy.engine.Engine [generated in 0.00346s] {}\n"
     ]
    },
    {
     "name": "stderr",
     "output_type": "stream",
     "text": [
      "2025-09-05 15:44:39 [sqlalchemy.engine.Engine] INFO: [generated in 0.00346s] {}\n"
     ]
    },
    {
     "name": "stdout",
     "output_type": "stream",
     "text": [
      "2025-09-05 15:44:39,435 INFO sqlalchemy.engine.Engine COMMIT\n"
     ]
    },
    {
     "name": "stderr",
     "output_type": "stream",
     "text": [
      "2025-09-05 15:44:39 [sqlalchemy.engine.Engine] INFO: COMMIT\n"
     ]
    }
   ],
   "source": [
    "with engine.begin() as conn:\n",
    "    conn.execute(text(f'TRUNCATE TABLE {HotelWeatherForecasts.__tablename__} RESTART IDENTITY CASCADE'))"
   ]
  },
  {
   "cell_type": "markdown",
   "metadata": {},
   "source": [
    "#### Bulk insert dataframe rows into table ####"
   ]
  },
  {
   "cell_type": "code",
   "execution_count": null,
   "metadata": {},
   "outputs": [],
   "source": [
    "from sqlalchemy.orm import sessionmaker\n",
    "Session = sessionmaker(bind=engine)\n",
    "session = Session()\n",
    "session.bulk_insert_mappings(HotelWeatherForecasts,s3_booking_hotels_weatherforecasts_dtf.to_dict('records'))\n",
    "# Commit the results\n",
    "session.commit()"
   ]
  },
  {
   "cell_type": "code",
   "execution_count": 169,
   "metadata": {},
   "outputs": [
    {
     "data": {
      "image/png": "[encoded data removed]",
      "text/plain": [
       "<IPython.core.display.Image object>"
      ]
     },
     "metadata": {},
     "output_type": "display_data"
    }
   ],
   "source": [
    "from IPython.display import Image, display\n",
    "\n",
    "display(Image(filename=\"images/Query_RDS_Table_From_pgAdminClient.png\"))   # Local file"
   ]
  },
  {
   "cell_type": "markdown",
   "metadata": {},
   "source": [
    "WITH DT_RANKED_ROWS AS ( \n",
    "\n",
    "SELECT *\n",
    "\n",
    ", ROW_NUMBER() OVER (PARTITION BY target_dest_id ORDER BY dt ASC\n",
    "\n",
    ") AS dt_order\n",
    "\n",
    "FROM public.booking_hotels_weatherforecasts\n",
    "\n",
    "WHERE target_dest IN ('Cassis', 'Aix-en-Provence') \n",
    "\n",
    "\tAND CAST(dt AS DATE) = '2025-09-05'\n",
    "\n",
    ")\n",
    "\n",
    "SELECT * FROM DT_RANKED_ROWS\n",
    "\n",
    "WHERE dt_order <= 2\n",
    "\n",
    "ORDER BY weather_rank ASC,  hotel_score DESC LIMIT 100"
   ]
  }
 ],
 "metadata": {
  "kernelspec": {
   "display_name": "jedha_dts",
   "language": "python",
   "name": "python3"
  },
  "language_info": {
   "codemirror_mode": {
    "name": "ipython",
    "version": 3
   },
   "file_extension": ".py",
   "mimetype": "text/x-python",
   "name": "python",
   "nbconvert_exporter": "python",
   "pygments_lexer": "ipython3",
   "version": "3.12.4"
  }
 },
 "nbformat": 4,
 "nbformat_minor": 2
}
